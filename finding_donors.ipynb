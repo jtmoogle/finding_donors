{
 "cells": [
  {
   "cell_type": "markdown",
   "metadata": {},
   "source": [
    "# Machine Learning Engineer Nanodegree\n",
    "## Supervised Learning\n",
    "## Project: Finding Donors for *CharityML*"
   ]
  },
  {
   "cell_type": "markdown",
   "metadata": {},
   "source": [
    "### >This is prepared for Udacity Machine Learning Engineer Nanodegree online class  \n",
    ">Author: jtmoogle @github.com     All Rights Reserved  \n",
    ">Date: July 3, 2017"
   ]
  },
  {
   "cell_type": "markdown",
   "metadata": {},
   "source": [
    "Welcome to the second project of the Machine Learning Engineer Nanodegree! In this notebook, some template code has already been provided for you, and it will be your job to implement the additional functionality necessary to successfully complete this project. Sections that begin with **'Implementation'** in the header indicate that the following block of code will require additional functionality which you must provide. Instructions will be provided for each section and the specifics of the implementation are marked in the code block with a `'TODO'` statement. Please be sure to read the instructions carefully!\n",
    "\n",
    "In addition to implementing code, there will be questions that you must answer which relate to the project and your implementation. Each section where you will answer a question is preceded by a **'Question X'** header. Carefully read each question and provide thorough answers in the following text boxes that begin with **'Answer:'**. Your project submission will be evaluated based on your answers to each of the questions and the implementation you provide.  \n",
    "\n",
    ">**Note:** Please specify WHICH VERSION OF PYTHON you are using when submitting this notebook. Code and Markdown cells can be executed using the **Shift + Enter** keyboard shortcut. In addition, Markdown cells can be edited by typically double-clicking the cell to enter edit mode."
   ]
  },
  {
   "cell_type": "markdown",
   "metadata": {},
   "source": [
    "## Getting Started\n",
    "\n",
    "In this project, you will employ several *supervised algorithms* of your choice to accurately model individuals' income using data collected from the 1994 U.S. Census. You will then choose the best candidate algorithm from preliminary results and further optimize this algorithm to best model the data. Your goal with this implementation is to construct a model that accurately predicts whether an individual makes more than $50,000. This sort of task can arise in a non-profit setting, where organizations survive on donations.  Understanding an individual's income can help a non-profit better understand how large of a donation to request, or whether or not they should reach out to begin with.  While it can be difficult to determine an individual's general income bracket directly from public sources, we can (as we will see) infer this value from other publically available features. \n",
    "\n",
    "The dataset for this project originates from the [UCI Machine Learning Repository](https://archive.ics.uci.edu/ml/datasets/Census+Income). The datset was donated by Ron Kohavi and Barry Becker, after being published in the article _\"Scaling Up the Accuracy of Naive-Bayes Classifiers: A Decision-Tree Hybrid\"_. You can find the article by Ron Kohavi [online](https://www.aaai.org/Papers/KDD/1996/KDD96-033.pdf). The data we investigate here consists of small changes to the original dataset, such as removing the `'fnlwgt'` feature and records with missing or ill-formatted entries."
   ]
  },
  {
   "cell_type": "markdown",
   "metadata": {},
   "source": [
    ">The following steps were performed\n",
    "1. Exploring the Data \n",
    "    + Implementation: Data Exploration\n",
    "2. Preparing the Data\n",
    "    + Transforming Skewed Continuous Features\n",
    "    + Normalizing Numerical Features\n",
    "    + Implementation: Data Preprocessing\n",
    "    + Shuffle and Split Data\n",
    "3. Evaluating Model Performance\n",
    "    + Metrics and the Naive Predictor\n",
    "    + Naive Predictor Performance\n",
    "    + Supervised Learning Models\n",
    "    + Model Application\n",
    "    + Implementation - Creating a Training and Predicting Pipeline\n",
    "    + Implementation: Initial Model Evaluation\n",
    "4. Improving Results\n",
    "    + Choosing the Best Model\n",
    "    + Describing the Model in Layman's Terms\n",
    "    + Implementation: Model Tuning\n",
    "    + Final Model Evaluation\n",
    "5. Feature Importance\n",
    "    + Feature Relevance Observation\n",
    "    + Implementation - Extracting Feature Importance\n",
    "    + Extracting Feature Importance\n",
    "    + Feature Selection\n",
    "    + Effects of Feature Selection"
   ]
  },
  {
   "cell_type": "markdown",
   "metadata": {},
   "source": [
    "----\n",
    "## 1. Exploring the Data\n",
    "Run the code cell below to load necessary Python libraries and load the census data. Note that the last column from this dataset, `'income'`, will be our target label (whether an individual makes more than, or at most, $50,000 annually). All other columns are features about each individual in the census database."
   ]
  },
  {
   "cell_type": "code",
   "execution_count": 2,
   "metadata": {},
   "outputs": [
    {
     "data": {
      "text/plain": [
       "'-sys version->'"
      ]
     },
     "metadata": {},
     "output_type": "display_data"
    },
    {
     "data": {
      "text/plain": [
       "'2.7.13 |Anaconda 4.4.0 (64-bit)| (default, May 11 2017, 13:17:26) [MSC v.1500 64 bit (AMD64)]'"
      ]
     },
     "metadata": {},
     "output_type": "display_data"
    },
    {
     "data": {
      "text/plain": [
       "'-python version->'"
      ]
     },
     "metadata": {},
     "output_type": "display_data"
    },
    {
     "data": {
      "text/plain": [
       "'2.7.13'"
      ]
     },
     "metadata": {},
     "output_type": "display_data"
    },
    {
     "name": "stdout",
     "output_type": "stream",
     "text": [
      "('-debug mode->', False, '   -fyi mode->', True)\n"
     ]
    },
    {
     "data": {
      "text/plain": [
       "'-Data column->'"
      ]
     },
     "metadata": {},
     "output_type": "display_data"
    },
    {
     "data": {
      "text/plain": [
       "['age',\n",
       " 'workclass',\n",
       " 'education_level',\n",
       " 'education-num',\n",
       " 'marital-status',\n",
       " 'occupation',\n",
       " 'relationship',\n",
       " 'race',\n",
       " 'sex',\n",
       " 'capital-gain',\n",
       " 'capital-loss',\n",
       " 'hours-per-week',\n",
       " 'native-country',\n",
       " 'income']"
      ]
     },
     "metadata": {},
     "output_type": "display_data"
    },
    {
     "data": {
      "text/plain": [
       "'-Data summary->'"
      ]
     },
     "metadata": {},
     "output_type": "display_data"
    },
    {
     "data": {
      "text/html": [
       "<div>\n",
       "<style>\n",
       "    .dataframe thead tr:only-child th {\n",
       "        text-align: right;\n",
       "    }\n",
       "\n",
       "    .dataframe thead th {\n",
       "        text-align: left;\n",
       "    }\n",
       "\n",
       "    .dataframe tbody tr th {\n",
       "        vertical-align: top;\n",
       "    }\n",
       "</style>\n",
       "<table border=\"1\" class=\"dataframe\">\n",
       "  <thead>\n",
       "    <tr style=\"text-align: right;\">\n",
       "      <th></th>\n",
       "      <th>age</th>\n",
       "      <th>education-num</th>\n",
       "      <th>capital-gain</th>\n",
       "      <th>capital-loss</th>\n",
       "      <th>hours-per-week</th>\n",
       "    </tr>\n",
       "  </thead>\n",
       "  <tbody>\n",
       "    <tr>\n",
       "      <th>count</th>\n",
       "      <td>45222.000000</td>\n",
       "      <td>45222.000000</td>\n",
       "      <td>45222.000000</td>\n",
       "      <td>45222.000000</td>\n",
       "      <td>45222.000000</td>\n",
       "    </tr>\n",
       "    <tr>\n",
       "      <th>mean</th>\n",
       "      <td>38.547941</td>\n",
       "      <td>10.118460</td>\n",
       "      <td>1101.430344</td>\n",
       "      <td>88.595418</td>\n",
       "      <td>40.938017</td>\n",
       "    </tr>\n",
       "    <tr>\n",
       "      <th>std</th>\n",
       "      <td>13.217870</td>\n",
       "      <td>2.552881</td>\n",
       "      <td>7506.430084</td>\n",
       "      <td>404.956092</td>\n",
       "      <td>12.007508</td>\n",
       "    </tr>\n",
       "    <tr>\n",
       "      <th>min</th>\n",
       "      <td>17.000000</td>\n",
       "      <td>1.000000</td>\n",
       "      <td>0.000000</td>\n",
       "      <td>0.000000</td>\n",
       "      <td>1.000000</td>\n",
       "    </tr>\n",
       "    <tr>\n",
       "      <th>25%</th>\n",
       "      <td>28.000000</td>\n",
       "      <td>9.000000</td>\n",
       "      <td>0.000000</td>\n",
       "      <td>0.000000</td>\n",
       "      <td>40.000000</td>\n",
       "    </tr>\n",
       "    <tr>\n",
       "      <th>50%</th>\n",
       "      <td>37.000000</td>\n",
       "      <td>10.000000</td>\n",
       "      <td>0.000000</td>\n",
       "      <td>0.000000</td>\n",
       "      <td>40.000000</td>\n",
       "    </tr>\n",
       "    <tr>\n",
       "      <th>75%</th>\n",
       "      <td>47.000000</td>\n",
       "      <td>13.000000</td>\n",
       "      <td>0.000000</td>\n",
       "      <td>0.000000</td>\n",
       "      <td>45.000000</td>\n",
       "    </tr>\n",
       "    <tr>\n",
       "      <th>max</th>\n",
       "      <td>90.000000</td>\n",
       "      <td>16.000000</td>\n",
       "      <td>99999.000000</td>\n",
       "      <td>4356.000000</td>\n",
       "      <td>99.000000</td>\n",
       "    </tr>\n",
       "  </tbody>\n",
       "</table>\n",
       "</div>"
      ],
      "text/plain": [
       "                age  education-num  capital-gain  capital-loss  hours-per-week\n",
       "count  45222.000000   45222.000000  45222.000000  45222.000000    45222.000000\n",
       "mean      38.547941      10.118460   1101.430344     88.595418       40.938017\n",
       "std       13.217870       2.552881   7506.430084    404.956092       12.007508\n",
       "min       17.000000       1.000000      0.000000      0.000000        1.000000\n",
       "25%       28.000000       9.000000      0.000000      0.000000       40.000000\n",
       "50%       37.000000      10.000000      0.000000      0.000000       40.000000\n",
       "75%       47.000000      13.000000      0.000000      0.000000       45.000000\n",
       "max       90.000000      16.000000  99999.000000   4356.000000       99.000000"
      ]
     },
     "metadata": {},
     "output_type": "display_data"
    },
    {
     "data": {
      "text/plain": [
       "'-Data first record->'"
      ]
     },
     "metadata": {},
     "output_type": "display_data"
    },
    {
     "data": {
      "text/html": [
       "<div>\n",
       "<style>\n",
       "    .dataframe thead tr:only-child th {\n",
       "        text-align: right;\n",
       "    }\n",
       "\n",
       "    .dataframe thead th {\n",
       "        text-align: left;\n",
       "    }\n",
       "\n",
       "    .dataframe tbody tr th {\n",
       "        vertical-align: top;\n",
       "    }\n",
       "</style>\n",
       "<table border=\"1\" class=\"dataframe\">\n",
       "  <thead>\n",
       "    <tr style=\"text-align: right;\">\n",
       "      <th></th>\n",
       "      <th>age</th>\n",
       "      <th>workclass</th>\n",
       "      <th>education_level</th>\n",
       "      <th>education-num</th>\n",
       "      <th>marital-status</th>\n",
       "      <th>occupation</th>\n",
       "      <th>relationship</th>\n",
       "      <th>race</th>\n",
       "      <th>sex</th>\n",
       "      <th>capital-gain</th>\n",
       "      <th>capital-loss</th>\n",
       "      <th>hours-per-week</th>\n",
       "      <th>native-country</th>\n",
       "      <th>income</th>\n",
       "    </tr>\n",
       "  </thead>\n",
       "  <tbody>\n",
       "    <tr>\n",
       "      <th>0</th>\n",
       "      <td>39</td>\n",
       "      <td>State-gov</td>\n",
       "      <td>Bachelors</td>\n",
       "      <td>13.0</td>\n",
       "      <td>Never-married</td>\n",
       "      <td>Adm-clerical</td>\n",
       "      <td>Not-in-family</td>\n",
       "      <td>White</td>\n",
       "      <td>Male</td>\n",
       "      <td>2174.0</td>\n",
       "      <td>0.0</td>\n",
       "      <td>40.0</td>\n",
       "      <td>United-States</td>\n",
       "      <td>&lt;=50K</td>\n",
       "    </tr>\n",
       "  </tbody>\n",
       "</table>\n",
       "</div>"
      ],
      "text/plain": [
       "   age   workclass education_level  education-num  marital-status  \\\n",
       "0   39   State-gov       Bachelors           13.0   Never-married   \n",
       "\n",
       "      occupation    relationship    race    sex  capital-gain  capital-loss  \\\n",
       "0   Adm-clerical   Not-in-family   White   Male        2174.0           0.0   \n",
       "\n",
       "   hours-per-week  native-country income  \n",
       "0            40.0   United-States  <=50K  "
      ]
     },
     "metadata": {},
     "output_type": "display_data"
    },
    {
     "data": {
      "text/plain": [
       "'-Data last record->'"
      ]
     },
     "metadata": {},
     "output_type": "display_data"
    },
    {
     "data": {
      "text/html": [
       "<div>\n",
       "<style>\n",
       "    .dataframe thead tr:only-child th {\n",
       "        text-align: right;\n",
       "    }\n",
       "\n",
       "    .dataframe thead th {\n",
       "        text-align: left;\n",
       "    }\n",
       "\n",
       "    .dataframe tbody tr th {\n",
       "        vertical-align: top;\n",
       "    }\n",
       "</style>\n",
       "<table border=\"1\" class=\"dataframe\">\n",
       "  <thead>\n",
       "    <tr style=\"text-align: right;\">\n",
       "      <th></th>\n",
       "      <th>age</th>\n",
       "      <th>workclass</th>\n",
       "      <th>education_level</th>\n",
       "      <th>education-num</th>\n",
       "      <th>marital-status</th>\n",
       "      <th>occupation</th>\n",
       "      <th>relationship</th>\n",
       "      <th>race</th>\n",
       "      <th>sex</th>\n",
       "      <th>capital-gain</th>\n",
       "      <th>capital-loss</th>\n",
       "      <th>hours-per-week</th>\n",
       "      <th>native-country</th>\n",
       "      <th>income</th>\n",
       "    </tr>\n",
       "  </thead>\n",
       "  <tbody>\n",
       "    <tr>\n",
       "      <th>45221</th>\n",
       "      <td>35</td>\n",
       "      <td>Self-emp-inc</td>\n",
       "      <td>Bachelors</td>\n",
       "      <td>13.0</td>\n",
       "      <td>Married-civ-spouse</td>\n",
       "      <td>Exec-managerial</td>\n",
       "      <td>Husband</td>\n",
       "      <td>White</td>\n",
       "      <td>Male</td>\n",
       "      <td>0.0</td>\n",
       "      <td>0.0</td>\n",
       "      <td>60.0</td>\n",
       "      <td>United-States</td>\n",
       "      <td>&gt;50K</td>\n",
       "    </tr>\n",
       "  </tbody>\n",
       "</table>\n",
       "</div>"
      ],
      "text/plain": [
       "       age      workclass education_level  education-num       marital-status  \\\n",
       "45221   35   Self-emp-inc       Bachelors           13.0   Married-civ-spouse   \n",
       "\n",
       "             occupation relationship    race    sex  capital-gain  \\\n",
       "45221   Exec-managerial      Husband   White   Male           0.0   \n",
       "\n",
       "       capital-loss  hours-per-week  native-country income  \n",
       "45221           0.0            60.0   United-States   >50K  "
      ]
     },
     "metadata": {},
     "output_type": "display_data"
    }
   ],
   "source": [
    "#1-------------\n",
    "# Import libraries necessary for this project\n",
    "import sys \n",
    "from platform import python_version\n",
    "import numpy as np\n",
    "import pandas as pd\n",
    "from time import time\n",
    "from IPython.display import display # Allows the use of display() for DataFrames\n",
    "\n",
    "# Import supplementary visualization code visuals.py\n",
    "import visuals as vs\n",
    "\n",
    "#FYI only\n",
    "debug=False; fyi=True;\n",
    "\n",
    "# Pretty display for notebooks\n",
    "%matplotlib inline\n",
    "\n",
    "display( '-sys version->', sys.version )\n",
    "display( '-python version->', python_version())\n",
    "\n",
    "# Load the Census dataset\n",
    "data = pd.read_csv(\"census.csv\")\n",
    "\n",
    "print( '-debug mode->', debug, '   -fyi mode->', fyi)\n",
    "if debug: display('-Data dtype->', data.dtypes)\n",
    "if fyi: \n",
    "    display('-Data column->', data.columns.tolist())\n",
    "    display('-Data summary->', data.describe())\n",
    "\n",
    "# Success - Display the first record\n",
    "display('-Data first record->', data.head(n=1))\n",
    "display('-Data last record->', data.tail(n=1))"
   ]
  },
  {
   "cell_type": "markdown",
   "metadata": {},
   "source": [
    "### Implementation: Data Exploration\n",
    "A cursory investigation of the dataset will determine how many individuals fit into either group, and will tell us about the percentage of these individuals making more than \\$50,000. In the code cell below, you will need to compute the following:\n",
    "- The total number of records, `'n_records'`\n",
    "- The number of individuals making more than \\$50,000 annually, `'n_greater_50k'`.\n",
    "- The number of individuals making at most \\$50,000 annually, `'n_at_most_50k'`.\n",
    "- The percentage of individuals making more than \\$50,000 annually, `'greater_percent'`.\n",
    "\n",
    "**Hint:** You may need to look at the table above to understand how the `'income'` entries are formatted. "
   ]
  },
  {
   "cell_type": "code",
   "execution_count": 3,
   "metadata": {},
   "outputs": [
    {
     "name": "stdout",
     "output_type": "stream",
     "text": [
      "Total number of records: 45222\n",
      "Individuals making more than $50,000: 11208\n",
      "Individuals making at most $50,000: 34014\n",
      "Percentage of individuals making more than $50,000: 24.78%\n"
     ]
    }
   ],
   "source": [
    "#2-------------\n",
    "from __future__ import division\n",
    "\n",
    "# Total number of records\n",
    "n_records, n_cols = data.shape\n",
    "if debug: print('-Data size->', n_records, n_cols)\n",
    "\n",
    "# Number of records where individual's income is more than $50,000\n",
    "# assume TRUE is >=50K, sume of (int(True) = 1    int(False)= 0) \n",
    "#   equivalent to len( data[data.income == '>50K'] ) ) \n",
    "n_greater_50k = np.sum(np.int64((data.income == '>50K'))) \n",
    "\n",
    "# Number of records where individual's income is at most $50,000\n",
    "n_at_most_50k = np.sum(np.int64(data.income == '<=50K'))\n",
    "\n",
    "# Percentage of individuals whose income is more than $50,000\n",
    "# equivalent to 100*n_greater_50k/n_records\n",
    "#greater_percent = np.divide( np.multiply(100, n_greater_50k), n_records)\n",
    "greater_percent = 100* float(n_greater_50k) / n_records\n",
    "\n",
    "# Print the results\n",
    "print (\"Total number of records: {}\".format(n_records))\n",
    "print (\"Individuals making more than $50,000: {}\".format(n_greater_50k))\n",
    "print (\"Individuals making at most $50,000: {}\".format(n_at_most_50k))\n",
    "print (\"Percentage of individuals making more than $50,000: {:.2f}%\".format(greater_percent))"
   ]
  },
  {
   "cell_type": "markdown",
   "metadata": {},
   "source": [
    "----\n",
    "## 2. Preparing the Data\n",
    "Before data can be used as input for machine learning algorithms, it often must be cleaned, formatted, and restructured — this is typically known as **preprocessing**. Fortunately, for this dataset, there are no invalid or missing entries we must deal with, however, there are some qualities about certain features that must be adjusted. This preprocessing can help tremendously with the outcome and predictive power of nearly all learning algorithms."
   ]
  },
  {
   "cell_type": "markdown",
   "metadata": {},
   "source": [
    "### Transforming Skewed Continuous Features\n",
    "A dataset may sometimes contain at least one feature whose values tend to lie near a single number, but will also have a non-trivial number of vastly larger or smaller values than that single number.  Algorithms can be sensitive to such distributions of values and can underperform if the range is not properly normalized. With the census dataset two features fit this description: '`capital-gain'` and `'capital-loss'`. \n",
    "\n",
    "Run the code cell below to plot a histogram of these two features. Note the range of the values present and how they are distributed."
   ]
  },
  {
   "cell_type": "code",
   "execution_count": 4,
   "metadata": {},
   "outputs": [
    {
     "data": {
      "text/plain": [
       "\"-Data ['capital-gain', 'capital-loss'] Skewed summary->\""
      ]
     },
     "metadata": {},
     "output_type": "display_data"
    },
    {
     "data": {
      "text/html": [
       "<div>\n",
       "<style>\n",
       "    .dataframe thead tr:only-child th {\n",
       "        text-align: right;\n",
       "    }\n",
       "\n",
       "    .dataframe thead th {\n",
       "        text-align: left;\n",
       "    }\n",
       "\n",
       "    .dataframe tbody tr th {\n",
       "        vertical-align: top;\n",
       "    }\n",
       "</style>\n",
       "<table border=\"1\" class=\"dataframe\">\n",
       "  <thead>\n",
       "    <tr style=\"text-align: right;\">\n",
       "      <th></th>\n",
       "      <th>capital-gain</th>\n",
       "      <th>capital-loss</th>\n",
       "    </tr>\n",
       "  </thead>\n",
       "  <tbody>\n",
       "    <tr>\n",
       "      <th>count</th>\n",
       "      <td>45222.000000</td>\n",
       "      <td>45222.000000</td>\n",
       "    </tr>\n",
       "    <tr>\n",
       "      <th>mean</th>\n",
       "      <td>1101.430344</td>\n",
       "      <td>88.595418</td>\n",
       "    </tr>\n",
       "    <tr>\n",
       "      <th>std</th>\n",
       "      <td>7506.430084</td>\n",
       "      <td>404.956092</td>\n",
       "    </tr>\n",
       "    <tr>\n",
       "      <th>min</th>\n",
       "      <td>0.000000</td>\n",
       "      <td>0.000000</td>\n",
       "    </tr>\n",
       "    <tr>\n",
       "      <th>25%</th>\n",
       "      <td>0.000000</td>\n",
       "      <td>0.000000</td>\n",
       "    </tr>\n",
       "    <tr>\n",
       "      <th>50%</th>\n",
       "      <td>0.000000</td>\n",
       "      <td>0.000000</td>\n",
       "    </tr>\n",
       "    <tr>\n",
       "      <th>75%</th>\n",
       "      <td>0.000000</td>\n",
       "      <td>0.000000</td>\n",
       "    </tr>\n",
       "    <tr>\n",
       "      <th>max</th>\n",
       "      <td>99999.000000</td>\n",
       "      <td>4356.000000</td>\n",
       "    </tr>\n",
       "  </tbody>\n",
       "</table>\n",
       "</div>"
      ],
      "text/plain": [
       "       capital-gain  capital-loss\n",
       "count  45222.000000  45222.000000\n",
       "mean    1101.430344     88.595418\n",
       "std     7506.430084    404.956092\n",
       "min        0.000000      0.000000\n",
       "25%        0.000000      0.000000\n",
       "50%        0.000000      0.000000\n",
       "75%        0.000000      0.000000\n",
       "max    99999.000000   4356.000000"
      ]
     },
     "metadata": {},
     "output_type": "display_data"
    },
    {
     "data": {
      "image/png": "[encoded data removed]",
      "text/plain": [
       "<matplotlib.figure.Figure at 0x4e63ac8>"
      ]
     },
     "metadata": {},
     "output_type": "display_data"
    }
   ],
   "source": [
    "#3-------------\n",
    "# Split the data into features and target label\n",
    "income_raw = data['income']\n",
    "features_raw = data.drop('income', axis = 1)\n",
    "\n",
    "# Visualize skewed continuous features of original data\n",
    "vs.distribution(data)\n",
    "\n",
    "skewed = ['capital-gain', 'capital-loss']\n",
    "display('-Data {} Skewed summary->'.format(skewed), data[skewed].describe())"
   ]
  },
  {
   "cell_type": "markdown",
   "metadata": {},
   "source": [
    "For highly-skewed feature distributions such as `'capital-gain'` and `'capital-loss'`, it is common practice to apply a <a href=\"https://en.wikipedia.org/wiki/Data_transformation_(statistics)\">logarithmic transformation</a> on the data so that the very large and very small values do not negatively affect the performance of a learning algorithm. Using a logarithmic transformation significantly reduces the range of values caused by outliers. Care must be taken when applying this transformation however: The logarithm of `0` is undefined, so we must translate the values by a small amount above `0` to apply the logarithm successfully.\n",
    "\n",
    "Run the code cell below to perform a transformation on the data and visualize the results. Again, note the range of values and how they are distributed. "
   ]
  },
  {
   "cell_type": "code",
   "execution_count": 5,
   "metadata": {
    "scrolled": false
   },
   "outputs": [
    {
     "data": {
      "text/plain": [
       "'-Feature Skewed summary->'"
      ]
     },
     "metadata": {},
     "output_type": "display_data"
    },
    {
     "data": {
      "text/html": [
       "<div>\n",
       "<style>\n",
       "    .dataframe thead tr:only-child th {\n",
       "        text-align: right;\n",
       "    }\n",
       "\n",
       "    .dataframe thead th {\n",
       "        text-align: left;\n",
       "    }\n",
       "\n",
       "    .dataframe tbody tr th {\n",
       "        vertical-align: top;\n",
       "    }\n",
       "</style>\n",
       "<table border=\"1\" class=\"dataframe\">\n",
       "  <thead>\n",
       "    <tr style=\"text-align: right;\">\n",
       "      <th></th>\n",
       "      <th>capital-gain</th>\n",
       "      <th>capital-loss</th>\n",
       "    </tr>\n",
       "  </thead>\n",
       "  <tbody>\n",
       "    <tr>\n",
       "      <th>count</th>\n",
       "      <td>45222.000000</td>\n",
       "      <td>45222.000000</td>\n",
       "    </tr>\n",
       "    <tr>\n",
       "      <th>mean</th>\n",
       "      <td>0.740759</td>\n",
       "      <td>0.355489</td>\n",
       "    </tr>\n",
       "    <tr>\n",
       "      <th>std</th>\n",
       "      <td>2.466527</td>\n",
       "      <td>1.595914</td>\n",
       "    </tr>\n",
       "    <tr>\n",
       "      <th>min</th>\n",
       "      <td>0.000000</td>\n",
       "      <td>0.000000</td>\n",
       "    </tr>\n",
       "    <tr>\n",
       "      <th>25%</th>\n",
       "      <td>0.000000</td>\n",
       "      <td>0.000000</td>\n",
       "    </tr>\n",
       "    <tr>\n",
       "      <th>50%</th>\n",
       "      <td>0.000000</td>\n",
       "      <td>0.000000</td>\n",
       "    </tr>\n",
       "    <tr>\n",
       "      <th>75%</th>\n",
       "      <td>0.000000</td>\n",
       "      <td>0.000000</td>\n",
       "    </tr>\n",
       "    <tr>\n",
       "      <th>max</th>\n",
       "      <td>11.512925</td>\n",
       "      <td>8.379539</td>\n",
       "    </tr>\n",
       "  </tbody>\n",
       "</table>\n",
       "</div>"
      ],
      "text/plain": [
       "       capital-gain  capital-loss\n",
       "count  45222.000000  45222.000000\n",
       "mean       0.740759      0.355489\n",
       "std        2.466527      1.595914\n",
       "min        0.000000      0.000000\n",
       "25%        0.000000      0.000000\n",
       "50%        0.000000      0.000000\n",
       "75%        0.000000      0.000000\n",
       "max       11.512925      8.379539"
      ]
     },
     "metadata": {},
     "output_type": "display_data"
    },
    {
     "data": {
      "image/png": "[encoded data removed]",
      "text/plain": [
       "<matplotlib.figure.Figure at 0xb37e0b8>"
      ]
     },
     "metadata": {},
     "output_type": "display_data"
    }
   ],
   "source": [
    "#4-------------\n",
    "# Log-transform the skewed features\n",
    "skewed = ['capital-gain', 'capital-loss']\n",
    "features_raw[skewed] = data[skewed].apply(lambda x: np.log(x + 1))\n",
    "display('-Feature Skewed summary->', features_raw[skewed].describe())\n",
    "\n",
    "# Visualize the new log distributions\n",
    "vs.distribution(features_raw, transformed = True)"
   ]
  },
  {
   "cell_type": "markdown",
   "metadata": {},
   "source": [
    "### Normalizing Numerical Features\n",
    "In addition to performing transformations on features that are highly skewed, it is often good practice to perform some type of scaling on numerical features. Applying a scaling to the data does not change the shape of each feature's distribution (such as `'capital-gain'` or `'capital-loss'` above); however, normalization ensures that each feature is treated equally when applying supervised learners. Note that once scaling is applied, observing the data in its raw form will no longer have the same original meaning, as exampled below.\n",
    "\n",
    "Run the code cell below to normalize each numerical feature. We will use [`sklearn.preprocessing.MinMaxScaler`](http://scikit-learn.org/stable/modules/generated/sklearn.preprocessing.MinMaxScaler.html) for this."
   ]
  },
  {
   "cell_type": "code",
   "execution_count": 6,
   "metadata": {
    "scrolled": true
   },
   "outputs": [
    {
     "data": {
      "text/html": [
       "<div>\n",
       "<style>\n",
       "    .dataframe thead tr:only-child th {\n",
       "        text-align: right;\n",
       "    }\n",
       "\n",
       "    .dataframe thead th {\n",
       "        text-align: left;\n",
       "    }\n",
       "\n",
       "    .dataframe tbody tr th {\n",
       "        vertical-align: top;\n",
       "    }\n",
       "</style>\n",
       "<table border=\"1\" class=\"dataframe\">\n",
       "  <thead>\n",
       "    <tr style=\"text-align: right;\">\n",
       "      <th></th>\n",
       "      <th>age</th>\n",
       "      <th>workclass</th>\n",
       "      <th>education_level</th>\n",
       "      <th>education-num</th>\n",
       "      <th>marital-status</th>\n",
       "      <th>occupation</th>\n",
       "      <th>relationship</th>\n",
       "      <th>race</th>\n",
       "      <th>sex</th>\n",
       "      <th>capital-gain</th>\n",
       "      <th>capital-loss</th>\n",
       "      <th>hours-per-week</th>\n",
       "      <th>native-country</th>\n",
       "    </tr>\n",
       "  </thead>\n",
       "  <tbody>\n",
       "    <tr>\n",
       "      <th>0</th>\n",
       "      <td>0.30137</td>\n",
       "      <td>State-gov</td>\n",
       "      <td>Bachelors</td>\n",
       "      <td>0.8</td>\n",
       "      <td>Never-married</td>\n",
       "      <td>Adm-clerical</td>\n",
       "      <td>Not-in-family</td>\n",
       "      <td>White</td>\n",
       "      <td>Male</td>\n",
       "      <td>0.667492</td>\n",
       "      <td>0.0</td>\n",
       "      <td>0.397959</td>\n",
       "      <td>United-States</td>\n",
       "    </tr>\n",
       "  </tbody>\n",
       "</table>\n",
       "</div>"
      ],
      "text/plain": [
       "       age   workclass education_level  education-num  marital-status  \\\n",
       "0  0.30137   State-gov       Bachelors            0.8   Never-married   \n",
       "\n",
       "      occupation    relationship    race    sex  capital-gain  capital-loss  \\\n",
       "0   Adm-clerical   Not-in-family   White   Male      0.667492           0.0   \n",
       "\n",
       "   hours-per-week  native-country  \n",
       "0        0.397959   United-States  "
      ]
     },
     "metadata": {},
     "output_type": "display_data"
    }
   ],
   "source": [
    "#5-------------\n",
    "# Import sklearn.preprocessing.StandardScaler\n",
    "from sklearn.preprocessing import MinMaxScaler\n",
    "\n",
    "# Initialize a scaler, then apply it to the features\n",
    "scaler = MinMaxScaler()\n",
    "numerical = ['age', 'education-num', 'capital-gain', 'capital-loss', 'hours-per-week']\n",
    "features_raw[numerical] = scaler.fit_transform(features_raw[numerical])\n",
    "\n",
    "# Show an example of a record with scaling applied\n",
    "display(features_raw.head(n = 1))"
   ]
  },
  {
   "cell_type": "markdown",
   "metadata": {},
   "source": [
    "### Implementation: Data Preprocessing\n",
    "\n",
    "From the table in **Exploring the Data** above, we can see there are several features for each record that are non-numeric. Typically, learning algorithms expect input to be numeric, which requires that non-numeric features (called *categorical variables*) be converted. One popular way to convert categorical variables is by using the **one-hot encoding** scheme. One-hot encoding creates a _\"dummy\"_ variable for each possible category of each non-numeric feature. For example, assume `someFeature` has three possible entries: `A`, `B`, or `C`. We then encode this feature into `someFeature_A`, `someFeature_B` and `someFeature_C`.\n",
    "\n",
    "|   | someFeature |                    | someFeature_A | someFeature_B | someFeature_C |\n",
    "| :-: | :-: |                            | :-: | :-: | :-: |\n",
    "| 0 |  B  |  | 0 | 1 | 0 |\n",
    "| 1 |  C  | ----> one-hot encode ----> | 0 | 0 | 1 |\n",
    "| 2 |  A  |  | 1 | 0 | 0 |\n",
    "\n",
    "Additionally, as with the non-numeric features, we need to convert the non-numeric target label, `'income'` to numerical values for the learning algorithm to work. Since there are only two possible categories for this label (\"<=50K\" and \">50K\"), we can avoid using one-hot encoding and simply encode these two categories as `0` and `1`, respectively. In code cell below, you will need to implement the following:\n",
    " - Use [`pandas.get_dummies()`](http://pandas.pydata.org/pandas-docs/stable/generated/pandas.get_dummies.html?highlight=get_dummies#pandas.get_dummies) to perform one-hot encoding on the `'features_raw'` data.\n",
    " - Convert the target label `'income_raw'` to numerical entries.\n",
    "   - Set records with \"<=50K\" to `0` and records with \">50K\" to `1`."
   ]
  },
  {
   "cell_type": "code",
   "execution_count": 7,
   "metadata": {
    "scrolled": false
   },
   "outputs": [
    {
     "data": {
      "text/plain": [
       "'-income_raw->'"
      ]
     },
     "metadata": {},
     "output_type": "display_data"
    },
    {
     "data": {
      "text/plain": [
       "45216    <=50K\n",
       "45217    <=50K\n",
       "45218    <=50K\n",
       "45219    <=50K\n",
       "45220    <=50K\n",
       "45221     >50K\n",
       "Name: income, dtype: object"
      ]
     },
     "metadata": {},
     "output_type": "display_data"
    },
    {
     "data": {
      "text/plain": [
       "'-income->'"
      ]
     },
     "metadata": {},
     "output_type": "display_data"
    },
    {
     "data": {
      "text/html": [
       "<div>\n",
       "<style>\n",
       "    .dataframe thead tr:only-child th {\n",
       "        text-align: right;\n",
       "    }\n",
       "\n",
       "    .dataframe thead th {\n",
       "        text-align: left;\n",
       "    }\n",
       "\n",
       "    .dataframe tbody tr th {\n",
       "        vertical-align: top;\n",
       "    }\n",
       "</style>\n",
       "<table border=\"1\" class=\"dataframe\">\n",
       "  <thead>\n",
       "    <tr style=\"text-align: right;\">\n",
       "      <th></th>\n",
       "      <th>income</th>\n",
       "    </tr>\n",
       "  </thead>\n",
       "  <tbody>\n",
       "    <tr>\n",
       "      <th>45216</th>\n",
       "      <td>0</td>\n",
       "    </tr>\n",
       "    <tr>\n",
       "      <th>45217</th>\n",
       "      <td>0</td>\n",
       "    </tr>\n",
       "    <tr>\n",
       "      <th>45218</th>\n",
       "      <td>0</td>\n",
       "    </tr>\n",
       "    <tr>\n",
       "      <th>45219</th>\n",
       "      <td>0</td>\n",
       "    </tr>\n",
       "    <tr>\n",
       "      <th>45220</th>\n",
       "      <td>0</td>\n",
       "    </tr>\n",
       "    <tr>\n",
       "      <th>45221</th>\n",
       "      <td>1</td>\n",
       "    </tr>\n",
       "  </tbody>\n",
       "</table>\n",
       "</div>"
      ],
      "text/plain": [
       "       income\n",
       "45216       0\n",
       "45217       0\n",
       "45218       0\n",
       "45219       0\n",
       "45220       0\n",
       "45221       1"
      ]
     },
     "metadata": {},
     "output_type": "display_data"
    },
    {
     "name": "stdout",
     "output_type": "stream",
     "text": [
      "103 total features after one-hot encoding.\n"
     ]
    },
    {
     "data": {
      "text/plain": [
       "['age',\n",
       " 'education-num',\n",
       " 'capital-gain',\n",
       " 'capital-loss',\n",
       " 'hours-per-week',\n",
       " 'workclass_ Federal-gov']"
      ]
     },
     "metadata": {},
     "output_type": "display_data"
    },
    {
     "data": {
      "text/plain": [
       "'...'"
      ]
     },
     "metadata": {},
     "output_type": "display_data"
    }
   ],
   "source": [
    "#6-------------\n",
    "## To encode the categorical labels as numeric data\n",
    "# One-hot encode the 'features_raw' data using pandas.get_dummies()\n",
    "features = pd.get_dummies( features_raw )\n",
    "if debug: display (\"-features=get_dummiesfeatures_raw ->\", features.head(n=1))\n",
    "\n",
    "# Encode the 'income_raw' data to numerical values \"<=50K\" to 0 and records with \">50K\" to 1.\n",
    "mapping_dict = { \"income\": { \"<=50K\": 0, \">50K\": 1 } }\n",
    "income = pd.DataFrame(income_raw)\n",
    "income = income.replace(mapping_dict)\n",
    "display(\"-income_raw->\", income_raw.tail(n=6))\n",
    "display(\"-income->\", income.tail(n=6))\n",
    "\n",
    "# Print the number of features after one-hot encoding\n",
    "encoded = list( features.columns) \n",
    "print (\"{} total features after one-hot encoding.\".format(len(encoded)))\n",
    "\n",
    "# Uncomment the following line to see the encoded feature names\n",
    "if debug: print (encoded)\n",
    "else: display(encoded[:6], '...')\n"
   ]
  },
  {
   "cell_type": "markdown",
   "metadata": {},
   "source": [
    "### Shuffle and Split Data\n",
    "Now all _categorical variables_ have been converted into numerical features, and all numerical features have been normalized. As always, we will now split the data (both features and their labels) into training and test sets. 80% of the data will be used for training and 20% for testing.\n",
    "\n",
    "Run the code cell below to perform this split."
   ]
  },
  {
   "cell_type": "code",
   "execution_count": 8,
   "metadata": {},
   "outputs": [
    {
     "name": "stdout",
     "output_type": "stream",
     "text": [
      "Training set has 36177 samples.\n",
      "Testing set has 9045 samples.\n"
     ]
    }
   ],
   "source": [
    "#7-------------\n",
    "# Import train_test_split\n",
    "#from sklearn.cross_validation import train_test_split  with older python version\n",
    "from sklearn.model_selection import train_test_split\n",
    "\n",
    "# Split the 'features' and 'income' data into 80% for training and 20% for testing sets\n",
    "X_train, X_test, y_train, y_test = train_test_split(features, income, test_size = 0.2, random_state = 99)\n",
    "\n",
    "# Show the results of the split\n",
    "print (\"Training set has {} samples.\".format(X_train.shape[0]))\n",
    "print (\"Testing set has {} samples.\".format(X_test.shape[0]))"
   ]
  },
  {
   "cell_type": "markdown",
   "metadata": {},
   "source": [
    "----\n",
    "## 3. Evaluating Model Performance\n",
    "In this section, we will investigate four different algorithms, and determine which is best at modeling the data. Three of these algorithms will be supervised learners of your choice, and the fourth algorithm is known as a *naive predictor*."
   ]
  },
  {
   "cell_type": "markdown",
   "metadata": {},
   "source": [
    "### Metrics and the Naive Predictor\n",
    "*CharityML*, equipped with their research, knows *individuals that make more than \\$50,000 are most likely to donate to their charity*. Because of this, *CharityML* is particularly interested in predicting who makes more than \\$50,000 accurately. It would seem that using **accuracy** as a metric for evaluating a particular model's performace would be appropriate. Additionally, identifying someone that *does not* make more than \\$50,000 as someone who does would be detrimental to *CharityML*, since they are looking to find individuals willing to donate. Therefore,  \n",
    "-  A model's ability to precisely predict those that make more than \\$50,000 is *more important* than the model's ability to **recall** those individuals. \n",
    "- We can use **F-beta score** as a metric that considers both precision and recall:\n",
    "\n",
    "$$ F_{\\beta} = (1 + \\beta^2) \\cdot \\frac{precision \\cdot recall}{\\left( \\beta^2 \\cdot precision \\right) + recall} $$\n",
    "\n",
    "In particular, when $\\beta = 0.5$, more emphasis is placed on precision. This is called the **F$_{0.5}$ score** (or F-score for simplicity).\n",
    "\n",
    "Looking at the distribution of classes (those who make at most \\$50,000, and those who make more), it's clear most individuals do not make more than \\$50,000. This can greatly affect **accuracy**, since we could simply say *\"this person does not make more than \\$50,000\"* and generally be right, without ever looking at the data! Making such a statement would be called **naive**, since we have not considered any information to substantiate the claim. It is always important to consider the *naive prediction* for your data, to help establish a benchmark for whether a model is performing well. That been said, using that prediction would be pointless: If we predicted all people made less than \\$50,000, *CharityML* would identify no one as donors. "
   ]
  },
  {
   "cell_type": "markdown",
   "metadata": {},
   "source": [
    "### Question 1 - Naive Predictor Performance\n",
    "*If we chose a model that always predicted an individual made more than \\$50,000, what would that model's accuracy and F-score be on this dataset?*  \n",
    "**Note:** You must use the code cell below and assign your results to `'accuracy'` and `'fscore'` to be used later."
   ]
  },
  {
   "cell_type": "code",
   "execution_count": 9,
   "metadata": {},
   "outputs": [
    {
     "name": "stdout",
     "output_type": "stream",
     "text": [
      "Naive Predictor: [Precision: 0.2478, Recall: 1.0000]\n",
      "Naive Predictor: [Accuracy score: 0.2478, F-score: 0.2917]\n"
     ]
    }
   ],
   "source": [
    "#8-------------\n",
    "#Note:  T=true P=postive F=false N=negative \n",
    "#TP = people income more than (>) 50k \n",
    "#FP = people income at most (=<) 50k\n",
    "\n",
    "## Calculation \n",
    "# Accuracy = (TP+TN)/(TP+FP+TN+FN)\n",
    "# Precision = TP/(TP+FP)\n",
    "# Recall = TP/(TP+FN)\n",
    "# F-beta score = ( 1+beta**2) * (Recall * Precision) / ((beta**2 * Precision) + Recall)\n",
    "\n",
    "# Calculate accuracy = (TP+TN)/(TP+FP+FN+TN)\n",
    "# earlier calculated greater_percent = 100*n_greater_50k/n_records, \n",
    "#accuracy = np.divide( greater_percent, 100.0)\n",
    "accuracy = float(greater_percent) / 100.0\n",
    "\n",
    "# naive model: all people make more than (>) 50k income\n",
    "PosVal=1\n",
    "pred = np.asarray( [PosVal] * n_records) \n",
    "\n",
    "TP = n_greater_50k # \"True Positive\" (income is >= 50K and pred = 1) prediction\n",
    "TN = 0             # \"True Negative\" (income is >= 50K and pred = 0) prediction \n",
    "FP = n_at_most_50k # \"False Positive\" ((income is not >= 50K and pred = 1) predictions \n",
    "FN = 0             # \"False Negative\" (income is not >= 50K, pred = 0) Never predict a person making less than 50K\n",
    "\n",
    "precision = float(TP)/float(TP+FP)\n",
    "#precision = np.divide( TP, np.add( TP, FP))\n",
    "recall = float(TP)/float(TP+FN)\n",
    "#recall = np.divide( TP, np.add( TP, FN))\n",
    "print (\"Naive Predictor: [Precision: {:.4f}, Recall: {:.4f}]\".format(precision, recall))\n",
    "\n",
    "# Calculate F-score using the formula above for beta = 0.5\n",
    "#F-beta score = ( 1+beta**2) * (Recall * Precision) / ((beta**2 * Precision) + Recall)\n",
    "beta = 0.50\n",
    "beta_squared = beta ** 2\n",
    "fscore = (1 + beta_squared) * (float)(recall*precision)/(float)((beta_squared * precision) + recall)\n",
    "\n",
    "# if using numpy, fscore = np.multiply(np.add(1, beta_squared), \n",
    "#                    np.divide( np.multiply(recall, precision),\n",
    "#                              np.add((beta_squared * precision), recall)))\n",
    "\n",
    "# Print the results \n",
    "print (\"Naive Predictor: [Accuracy score: {:.4f}, F-score: {:.4f}]\".format(accuracy, fscore))\n"
   ]
  },
  {
   "cell_type": "markdown",
   "metadata": {},
   "source": [
    ">**Answer** Naive Predictor:     Accuracy score: 0.2478    F-score: 0.2917\n",
    "\n",
    "Note:\n",
    ">The people who make more than 50k is most likely will donate to charityML.  \n",
    "This naive prediction model has possible outcomes in the following table \n",
    "- True - predict that everyone/all who make **more than (>) 50k income**\n",
    "- False - predict that everyone/all who make at most (<=) 50k income\n",
    "- Positive - label \"1\" if people **actually** make more than (>) 50k\n",
    "- Negative - label \"0\" if people actually make at most (<=) 50k  \n",
    "\n",
    ">|income is '>50K' | prediction = 1 | result count | \n",
    "| :---: | :---: |  :---: | \n",
    "| True | Positive | n_greather_50k |\n",
    "| True | Negative | zero | \n",
    "| False | Positive | n_at_most_50k | \n",
    "| False | Negative | zero | \n",
    "\n",
    ">| gold labels | income>50k | income <= 50K | Note |  \n",
    "|  :---: | :---: |  :---: | :---: |  \n",
    "| System output| True Positive (n_greather_50k)| False  Positive (n_at_most_50k) |precision = TP/(TP + FP)|  \n",
    "| income>50K | False Negative (zero) | True Negative (zero) | \n",
    "| income <=50K|recall = TP/(TP + FN) | |accuracy = (TP + TN)/(TP + FP + TN + FN)|  "
   ]
  },
  {
   "cell_type": "markdown",
   "metadata": {},
   "source": [
    "###  Supervised Learning Models\n",
    "**The following supervised learning models are currently available in** [`scikit-learn`](http://scikit-learn.org/stable/supervised_learning.html) **that you may choose from:**\n",
    "- Gaussian Naive Bayes (GaussianNB)\n",
    "- Decision Trees\n",
    "- Ensemble Methods (Bagging, AdaBoost, Random Forest, Gradient Boosting)\n",
    "- K-Nearest Neighbors (KNeighbors)\n",
    "- Stochastic Gradient Descent Classifier (SGDC)\n",
    "- Support Vector Machines (SVM)\n",
    "- Logistic Regression"
   ]
  },
  {
   "cell_type": "markdown",
   "metadata": {},
   "source": [
    "### Question 2 - Model Application\n",
    "List three of the supervised learning models above that are appropriate for this problem that you will test on the census data. For each model chosen\n",
    "- *Describe one real-world application in industry where the model can be applied.* (You may need to do research for this — give references!)\n",
    "- *What are the strengths of the model; when does it perform well?*\n",
    "- *What are the weaknesses of the model; when does it perform poorly?*\n",
    "- *What makes this model a good candidate for the problem, given what you know about the data?*"
   ]
  },
  {
   "cell_type": "markdown",
   "metadata": {},
   "source": [
    ">**Answer: **  \n",
    "First, let's look at data we had \n",
    "- 45,222 records in total\n",
    "- Skewed data: \n",
    "    + 24.78% (11,208/total 45,222) individuals making more than (>) \\$50K  \n",
    "    + 75.22% (34,014/55,222) making at most (<=) \\$50k\n",
    "- Possibility if splitting data: training or Test data could contain most of >50K, or vice versa.  \n",
    "    + Training set has 36,177 samples; testing set has 9,045 samples.\n",
    "- Noticed too many features: 103 total features after one-hot encoding\n",
    "\n",
    "> I used the following references and cited for strength and weakness (pros cons) below\n",
    "- [Comparing supervised learning algorithms](http://www.dataschool.io/comparing-supervised-learning-algorithms/)  \n",
    "- [scikit-learn algorithm chat - Choose the right estimator](http://scikit-learn.org/stable/tutorial/machine_learning_map/index.html) \n",
    "\n",
    "> To choose the appropriate models that I would test on the census data.  \n",
    "A. Logistic Regression  \n",
    "B. Random Forest  \n",
    "C. K-Nearest Neighbors (KNeighbors)  \n",
    "\n",
    "A. Logistic Regression - widely used for 'classification' problem type when the outcome/response I want to predict/measure is categorized with two/many levels. (i.e. gender, outcome of a game match, outcome of next president election, etc.)   \n",
    ">+ Real-world application: \n",
    "    + in modern tool: text processing, remote sensing\n",
    "    + in medical specialty: disease diagnostics\n",
    "    in marketing/economy: credit scoring; measuring the success rates of marketing campaigns, predicting the revenues of a certain product etc.\n",
    "    + application reference: \n",
    "        + [A humanitarian logistics model developed by the Center for Latin American Logistics Innovation (CLI)](http://supplychainmit.com/2014/12/11/a-real-world-humanitarian-logistics-model/) improves the efficiency of response efforts by taking a holistic view of these operations\"\n",
    "        + [Credit Score What It is and How it is developed](http://dni-institute.in/blogs/credit-score-what-is-it-and-how-is-it-developed/) used to validate various approval process before finally deployed in credit decision system.\n",
    "+ Strength: simple, fast training speed, fast prediction speed, efficient for small dataset with limited features, suitable for almost all applications where decision trees are used. \n",
    "+ Weakness: lower average predictive accuracy, not flexible enough/challenge to capture complex relationship in data, require the effort to avoid under fitting or over fitting such as fine tune of feature population and selection, multiple or non-linear decision boundaries\n",
    "+ Reason being good candidate: capable to deal with many features which need to be correlated.  Regularization to prevent over fitting due to dataset having many features    \n",
    "\n",
    "B. Random Forest - suitable for Regression or Classification problem type\n",
    ">+ Real-world application: be used to model the impact of marketing on customer acquisition, retention; churn or to predict disease risk and susceptibility in patients.    \n",
    "    + application reference: \n",
    "        + [Ensemble Methods: Netflix prize, BellKor's Pragmatic Chaos]( http://blog.udacity.com/2016/06/machine-learning-everywhere-netflix-personalized-medicine-fraud-prevention.html) improve the accuracy of predictions about how much someone is going to enjoy a movie based on their preferences. (Sept 2009)  \n",
    "        + [Application of Random Forest to Aircraft Engine Fault Diagnosis](http://ieeexplore.ieee.org/abstract/document/4281698/?reload=true) was applied to aircraft engine fault diagnosis in an attempt to achieve more accurate and reliable classification performance.  \n",
    "+ Strength: higher average predictive accuracy, run efficiently on large data bases, easily to handle categorical variables, some amount parameters tuning needed, auto learn feature interactions\n",
    "+ Weakness: slow training speed, moderate prediction speed, no perform well on small number of observation, difficult to interpret/explain to others, over fit if there are noisy, less accurate compared to boosting models. \n",
    "+ Reason being good candidate: We can train fast, can tune and not to over fit too much, dataset size is large, capable to deal with numerical and categorical data, no need to change categorical data to numerical\n",
    "\n",
    "C. K-Nearest Neighbors (KNeighbors) - suitable for Regression or Classification predictive problem type, search applications where you are looking for “similar” items; that is, when your task is some form of “find items similar to this one”. \n",
    ">+ Real-world application: concept search\n",
    "    + To detect pattern in credit card usage in retail stores - analyze register data and spot unusual patterns indicating suspicious activity  \n",
    "    + theft prevention in retail business  \n",
    "    + application reference  \n",
    "        + [Electronic discovery](https://en.wikipedia.org/wiki/Electronic_discovery/)  \n",
    "        + [kCura’s Relativity](https://www.kcura.com/relativity/Portals/0/Documents/8.0%20Documentation%20Help%20Site/index.htm#Site%20Resources/Features.htm)  \n",
    "        + [Recommender Systems](https://en.wikipedia.org/wiki/Recommender_system)   \n",
    "        + [Herta Security](http://www.hertasecurity.com/en/)  \n",
    "+ Strength: fast training speed, prediction speed (depend on n), has no model other than storing entire dataset, so no learning in required\n",
    "+ Weakness: lower average predictive accuracy, minimum parameters tuning needed, no perform well with small number of observation, no handle lots of irrelevant features well, features might need scaling\n",
    "+ Reason being good candidate: efficiently store the data using complexity if data size is smaller"
   ]
  },
  {
   "cell_type": "markdown",
   "metadata": {},
   "source": [
    "### Implementation - Creating a Training and Predicting Pipeline\n",
    "To properly evaluate the performance of each model you've chosen, it's important that you create a training and predicting pipeline that allows you to quickly and effectively train models using various sizes of training data and perform predictions on the testing data. Your implementation here will be used in the following section.\n",
    "In the code block below, you will need to implement the following:\n",
    " - Import `fbeta_score` and `accuracy_score` from [`sklearn.metrics`](http://scikit-learn.org/stable/modules/classes.html#sklearn-metrics-metrics).\n",
    " - Fit the learner to the sampled training data and record the training time.\n",
    " - Perform predictions on the test data `X_test`, and also on the first 300 training points `X_train[:300]`.\n",
    "   - Record the total prediction time.\n",
    " - Calculate the accuracy score for both the training subset and testing set.\n",
    " - Calculate the F-score for both the training subset and testing set.\n",
    "   - Make sure that you set the `beta` parameter!"
   ]
  },
  {
   "cell_type": "code",
   "execution_count": 11,
   "metadata": {
    "collapsed": true
   },
   "outputs": [],
   "source": [
    "#9-------------\n",
    "from sklearn.metrics import  fbeta_score, accuracy_score\n",
    "\n",
    "def train_predict(learner, sample_size, X_train, y_train, X_test, y_test): \n",
    "    '''\n",
    "    inputs:\n",
    "       - learner: the learning algorithm to be trained and predicted on\n",
    "       - sample_size: the size of samples (number) to be drawn from training set\n",
    "       - X_train: features training set\n",
    "       - y_train: income training set\n",
    "       - X_test: features testing set\n",
    "       - y_test: income testing set\n",
    "    '''\n",
    "    debug=False\n",
    "    if debug: \n",
    "        print(X_train.shape, y_train.shape, X_test.shape, y_test.shape)\n",
    "        display(learner)\n",
    "        \n",
    "        \n",
    "    results = {}\n",
    "\n",
    "    # Fit the learner to the training data using slicing with 'sample_size'\n",
    "    start = time() # Get start time\n",
    "    learner.fit( X_train[:sample_size], y_train[:sample_size] )\n",
    "    end = time() # Get end time\n",
    "    \n",
    "    # Calculate the training time\n",
    "    results['train_time'] = np.float(end - start)\n",
    "        \n",
    "    # Get the predictions on the test set, \n",
    "    #       then get predictions on the first 300 training samples\n",
    "    start = time() # Get start time\n",
    "    predictions_test = learner.predict( X_test ) \n",
    "    predictions_train = learner.predict( X_train[:300] )\n",
    "    end = time() # Get end time\n",
    "    \n",
    "    # Calculate the total prediction time\n",
    "    results['pred_time'] = np.float(end - start)\n",
    "            \n",
    "    # Compute accuracy on the first 300 training samples\n",
    "    results['acc_train'] = accuracy_score(y_train[:300], predictions_train, normalize=True)\n",
    "        \n",
    "    # Compute accuracy on test set\n",
    "    results['acc_test'] = accuracy_score(y_test, predictions_test, normalize=True)\n",
    "    \n",
    "    # Compute F-score on the the first 300 training samples\n",
    "    results['f_train'] = fbeta_score( y_train[:300], predictions_train, beta=0.5)\n",
    "        \n",
    "    # Compute F-score on the test set\n",
    "    results['f_test'] = fbeta_score( y_test, predictions_test, beta=0.5)\n",
    "       \n",
    "    # Success\n",
    "    print (\"{} trained on {} samples.\".format(learner.__class__.__name__, sample_size))\n",
    "        \n",
    "    # Return the results\n",
    "    return results\n"
   ]
  },
  {
   "cell_type": "markdown",
   "metadata": {},
   "source": [
    "### Implementation: Initial Model Evaluation\n",
    "In the code cell, you will need to implement the following:\n",
    "- Import the three supervised learning models you've discussed in the previous section.\n",
    "- Initialize the three models and store them in `'clf_A'`, `'clf_B'`, and `'clf_C'`.\n",
    "  - Use a `'random_state'` for each model you use, if provided.\n",
    "  - **Note:** Use the default settings for each model — you will tune one specific model in a later section.\n",
    "- Calculate the number of records equal to 1%, 10%, and 100% of the training data.\n",
    "  - Store those values in `'samples_1'`, `'samples_10'`, and `'samples_100'` respectively.\n",
    "\n",
    "**Note:** Depending on which algorithms you chose, the following implementation may take some time to run!"
   ]
  },
  {
   "cell_type": "code",
   "execution_count": 20,
   "metadata": {
    "scrolled": false
   },
   "outputs": [
    {
     "data": {
      "text/plain": [
       "'total count of y_train = 36177'"
      ]
     },
     "metadata": {},
     "output_type": "display_data"
    },
    {
     "name": "stdout",
     "output_type": "stream",
     "text": [
      "LogisticRegression trained on 361 samples.\n",
      "LogisticRegression trained on 3617 samples.\n",
      "LogisticRegression trained on 36177 samples.\n",
      "RandomForestClassifier trained on 361 samples.\n",
      "RandomForestClassifier trained on 3617 samples.\n",
      "RandomForestClassifier trained on 36177 samples.\n",
      "KNeighborsClassifier trained on 361 samples.\n",
      "KNeighborsClassifier trained on 3617 samples.\n",
      "KNeighborsClassifier trained on 36177 samples.\n"
     ]
    },
    {
     "data": {
      "text/plain": [
       "'--results of learners->'"
      ]
     },
     "metadata": {},
     "output_type": "display_data"
    },
    {
     "name": "stdout",
     "output_type": "stream",
     "text": [
      "LogisticRegression\n"
     ]
    },
    {
     "data": {
      "text/html": [
       "<div>\n",
       "<style>\n",
       "    .dataframe thead tr:only-child th {\n",
       "        text-align: right;\n",
       "    }\n",
       "\n",
       "    .dataframe thead th {\n",
       "        text-align: left;\n",
       "    }\n",
       "\n",
       "    .dataframe tbody tr th {\n",
       "        vertical-align: top;\n",
       "    }\n",
       "</style>\n",
       "<table border=\"1\" class=\"dataframe\">\n",
       "  <thead>\n",
       "    <tr style=\"text-align: right;\">\n",
       "      <th></th>\n",
       "      <th>1%</th>\n",
       "      <th>10%</th>\n",
       "      <th>100%</th>\n",
       "    </tr>\n",
       "  </thead>\n",
       "  <tbody>\n",
       "    <tr>\n",
       "      <th>acc_test</th>\n",
       "      <td>0.823217</td>\n",
       "      <td>0.844997</td>\n",
       "      <td>0.847540</td>\n",
       "    </tr>\n",
       "    <tr>\n",
       "      <th>acc_train</th>\n",
       "      <td>0.863333</td>\n",
       "      <td>0.840000</td>\n",
       "      <td>0.853333</td>\n",
       "    </tr>\n",
       "    <tr>\n",
       "      <th>f_test</th>\n",
       "      <td>0.643844</td>\n",
       "      <td>0.692575</td>\n",
       "      <td>0.697076</td>\n",
       "    </tr>\n",
       "    <tr>\n",
       "      <th>f_train</th>\n",
       "      <td>0.662100</td>\n",
       "      <td>0.591398</td>\n",
       "      <td>0.627119</td>\n",
       "    </tr>\n",
       "    <tr>\n",
       "      <th>pred_time</th>\n",
       "      <td>0.009000</td>\n",
       "      <td>0.011000</td>\n",
       "      <td>0.010000</td>\n",
       "    </tr>\n",
       "    <tr>\n",
       "      <th>train_time</th>\n",
       "      <td>0.003000</td>\n",
       "      <td>0.042000</td>\n",
       "      <td>0.421000</td>\n",
       "    </tr>\n",
       "  </tbody>\n",
       "</table>\n",
       "</div>"
      ],
      "text/plain": [
       "                  1%       10%      100%\n",
       "acc_test    0.823217  0.844997  0.847540\n",
       "acc_train   0.863333  0.840000  0.853333\n",
       "f_test      0.643844  0.692575  0.697076\n",
       "f_train     0.662100  0.591398  0.627119\n",
       "pred_time   0.009000  0.011000  0.010000\n",
       "train_time  0.003000  0.042000  0.421000"
      ]
     },
     "metadata": {},
     "output_type": "display_data"
    },
    {
     "name": "stdout",
     "output_type": "stream",
     "text": [
      "KNeighborsClassifier\n"
     ]
    },
    {
     "data": {
      "text/html": [
       "<div>\n",
       "<style>\n",
       "    .dataframe thead tr:only-child th {\n",
       "        text-align: right;\n",
       "    }\n",
       "\n",
       "    .dataframe thead th {\n",
       "        text-align: left;\n",
       "    }\n",
       "\n",
       "    .dataframe tbody tr th {\n",
       "        vertical-align: top;\n",
       "    }\n",
       "</style>\n",
       "<table border=\"1\" class=\"dataframe\">\n",
       "  <thead>\n",
       "    <tr style=\"text-align: right;\">\n",
       "      <th></th>\n",
       "      <th>1%</th>\n",
       "      <th>10%</th>\n",
       "      <th>100%</th>\n",
       "    </tr>\n",
       "  </thead>\n",
       "  <tbody>\n",
       "    <tr>\n",
       "      <th>acc_test</th>\n",
       "      <td>0.795246</td>\n",
       "      <td>0.811498</td>\n",
       "      <td>0.831841</td>\n",
       "    </tr>\n",
       "    <tr>\n",
       "      <th>acc_train</th>\n",
       "      <td>0.903333</td>\n",
       "      <td>0.880000</td>\n",
       "      <td>0.883333</td>\n",
       "    </tr>\n",
       "    <tr>\n",
       "      <th>f_test</th>\n",
       "      <td>0.565725</td>\n",
       "      <td>0.613435</td>\n",
       "      <td>0.658903</td>\n",
       "    </tr>\n",
       "    <tr>\n",
       "      <th>f_train</th>\n",
       "      <td>0.756014</td>\n",
       "      <td>0.689655</td>\n",
       "      <td>0.698413</td>\n",
       "    </tr>\n",
       "    <tr>\n",
       "      <th>pred_time</th>\n",
       "      <td>0.670000</td>\n",
       "      <td>6.339000</td>\n",
       "      <td>36.170000</td>\n",
       "    </tr>\n",
       "    <tr>\n",
       "      <th>train_time</th>\n",
       "      <td>0.000000</td>\n",
       "      <td>0.010000</td>\n",
       "      <td>2.296000</td>\n",
       "    </tr>\n",
       "  </tbody>\n",
       "</table>\n",
       "</div>"
      ],
      "text/plain": [
       "                  1%       10%       100%\n",
       "acc_test    0.795246  0.811498   0.831841\n",
       "acc_train   0.903333  0.880000   0.883333\n",
       "f_test      0.565725  0.613435   0.658903\n",
       "f_train     0.756014  0.689655   0.698413\n",
       "pred_time   0.670000  6.339000  36.170000\n",
       "train_time  0.000000  0.010000   2.296000"
      ]
     },
     "metadata": {},
     "output_type": "display_data"
    },
    {
     "name": "stdout",
     "output_type": "stream",
     "text": [
      "RandomForestClassifier\n"
     ]
    },
    {
     "data": {
      "text/html": [
       "<div>\n",
       "<style>\n",
       "    .dataframe thead tr:only-child th {\n",
       "        text-align: right;\n",
       "    }\n",
       "\n",
       "    .dataframe thead th {\n",
       "        text-align: left;\n",
       "    }\n",
       "\n",
       "    .dataframe tbody tr th {\n",
       "        vertical-align: top;\n",
       "    }\n",
       "</style>\n",
       "<table border=\"1\" class=\"dataframe\">\n",
       "  <thead>\n",
       "    <tr style=\"text-align: right;\">\n",
       "      <th></th>\n",
       "      <th>1%</th>\n",
       "      <th>10%</th>\n",
       "      <th>100%</th>\n",
       "    </tr>\n",
       "  </thead>\n",
       "  <tbody>\n",
       "    <tr>\n",
       "      <th>acc_test</th>\n",
       "      <td>0.805086</td>\n",
       "      <td>0.838917</td>\n",
       "      <td>0.844113</td>\n",
       "    </tr>\n",
       "    <tr>\n",
       "      <th>acc_train</th>\n",
       "      <td>0.990000</td>\n",
       "      <td>0.993333</td>\n",
       "      <td>0.966667</td>\n",
       "    </tr>\n",
       "    <tr>\n",
       "      <th>f_test</th>\n",
       "      <td>0.591598</td>\n",
       "      <td>0.677256</td>\n",
       "      <td>0.687375</td>\n",
       "    </tr>\n",
       "    <tr>\n",
       "      <th>f_train</th>\n",
       "      <td>0.989399</td>\n",
       "      <td>0.983051</td>\n",
       "      <td>0.907591</td>\n",
       "    </tr>\n",
       "    <tr>\n",
       "      <th>pred_time</th>\n",
       "      <td>0.040000</td>\n",
       "      <td>0.041000</td>\n",
       "      <td>0.050000</td>\n",
       "    </tr>\n",
       "    <tr>\n",
       "      <th>train_time</th>\n",
       "      <td>0.040000</td>\n",
       "      <td>0.080000</td>\n",
       "      <td>0.758000</td>\n",
       "    </tr>\n",
       "  </tbody>\n",
       "</table>\n",
       "</div>"
      ],
      "text/plain": [
       "                  1%       10%      100%\n",
       "acc_test    0.805086  0.838917  0.844113\n",
       "acc_train   0.990000  0.993333  0.966667\n",
       "f_test      0.591598  0.677256  0.687375\n",
       "f_train     0.989399  0.983051  0.907591\n",
       "pred_time   0.040000  0.041000  0.050000\n",
       "train_time  0.040000  0.080000  0.758000"
      ]
     },
     "metadata": {},
     "output_type": "display_data"
    },
    {
     "data": {
      "image/png": "[encoded data removed]",
      "text/plain": [
       "<matplotlib.figure.Figure at 0x10b66128>"
      ]
     },
     "metadata": {},
     "output_type": "display_data"
    }
   ],
   "source": [
    "#10-------------\n",
    "# Import the three supervised learning models from sklearn\n",
    "from sklearn.ensemble import RandomForestClassifier\n",
    "from sklearn.linear_model import LogisticRegression\n",
    "from sklearn.neighbors import KNeighborsClassifier\n",
    "\n",
    "# Initialize the three models\n",
    "clf_A = LogisticRegression(random_state=99)\n",
    "clf_B = RandomForestClassifier(criterion=\"entropy\", random_state=99)\n",
    "clf_C = KNeighborsClassifier(n_neighbors=5)\n",
    "\n",
    "# Calculate the number of samples for 1%, 10%, and 100% of the training data\n",
    "cnt = len(y_train)\n",
    "display(\"total count of y_train = {}\".format(cnt))\n",
    "samples_1 = np.int( cnt * 0.01 )\n",
    "samples_10 = np.int( cnt * 0.1 )\n",
    "samples_100 = np.int( cnt * 1.0 )\n",
    "\n",
    "# Collect results on the learners\n",
    "results = {}\n",
    "for clf in [clf_A, clf_B, clf_C]:\n",
    "    clf_name = clf.__class__.__name__\n",
    "    results[clf_name] = {}\n",
    "    for i, samples in enumerate([samples_1, samples_10, samples_100]):\n",
    "        try:\n",
    "            results[clf_name][i] = \\\n",
    "            train_predict(clf, samples, X_train, y_train.values.ravel(), X_test, y_test.values.ravel())\n",
    "            if debug: print (\"Successfully fit a model!\")    \n",
    "        except:\n",
    "            print (\"Something went wrong with train_predict a model.\")\n",
    "            \n",
    "if fyi: \n",
    "    display('--results of learners->')\n",
    "    for i in results.items():\n",
    "        print (i[0])  \n",
    "        display(pd.DataFrame(i[1]).rename(columns={ 0:'1%', 1:'10%', 2:'100%' }))\n",
    "    \n",
    "# Run metrics visualization for the three supervised learning models chosen\n",
    "vs.evaluate(results, accuracy, fscore)\n"
   ]
  },
  {
   "cell_type": "markdown",
   "metadata": {},
   "source": [
    "----\n",
    "## 4. Improving Results\n",
    "In this final section, you will choose from the three supervised learning models the *best* model to use on the student data. You will then perform a grid search optimization for the model over the entire training set (`X_train` and `y_train`) by tuning at least one parameter to improve upon the untuned model's F-score. "
   ]
  },
  {
   "cell_type": "markdown",
   "metadata": {},
   "source": [
    "### Question 3 - Choosing the Best Model\n",
    "*Based on the evaluation you performed earlier, in one to two paragraphs, explain to *CharityML* which of the three models you believe to be most appropriate for the task of identifying individuals that make more than \\$50,000.*  \n",
    "**Hint:** Your answer should include discussion of the metrics, prediction/training time, and the algorithm's suitability for the data."
   ]
  },
  {
   "cell_type": "markdown",
   "metadata": {},
   "source": [
    ">**Answer: **  \n",
    "From my observation, both 10% sample and 100% sample diagrams looked similar.  \n",
    "If comparing the computed result, the <b>bolded</b> number was the best in the column\n",
    "\n",
    ">| Model | Sample | (Highest) Accuracy Rate | (Highest) F beta score | (Least Time) Performance |\n",
    "|  :---: | :--: | :---: | :---: | :---: |\n",
    "| <b>Calculated Result</b> | <b>Size</b> | <b>acc_train/acc_test</b> | <b>f_traing/f_test</b> | <b>train_time/pred_time </b> | \n",
    "| Logistic Regression | 10%<br>100% |  0.84/<b>0.845</b><br>0.8533/<b>0.8475</b> | 0.5914/<b>0.6926</b><br>0.6271/<b>0.697</b> | <b>0.042</b>/<b>0.011</b><br><b>0.421/0.01</b> |\n",
    "| Random Forest Classifier | 10%<br>100% |<b>0.9933</b>/0.8389<br><b>0.9667</b>/0.8441 | <b>0.9831</b>/0.6773<br><b>0.9076</b>/0.6874 | 0.08/0.041<br>0.758/0.05 |\n",
    "| K Neighbors Classifier | 10%<br>100% |0.88/0.8115<br>0.8833/0.8318 | 0.6897/0.6134<br>0.6984/0.6589 | 0.01/ 6.339<br> 2.296/36.17 |  \n",
    "\n",
    ">- Accuracy rate - the higher the better \n",
    "    + Training: <b>Random Forest accuracy score</b> > Logistic Regression  > KNN\n",
    "    + Testing/Prediction: <b>Logistic Regression accuracy score</b> > Random Forest > KNN\n",
    "    + Difference between Random Forest and Logistic Regression was slight on test set\n",
    "    + The more data the better accuracy on prediction on Logistic and Random Forest. \n",
    "- F beta score if beta=0.5 - the higher the better  \n",
    "    + Training: <b>Random Forest F score</b> > Logistic Regression > KNN\n",
    "    + Testing/Prediction: <b>Logistic Regression F score</b> > Random Forest > KNN\n",
    "    + Difference between Random Forest and Logistic Regression was slight on test set\n",
    "    + The more data the better F beta score on prediction on Logistic. \n",
    "- Performance - the less the better  \n",
    "    + Training & Prediction: <b>Logistics Regression time taken</b> < Random Forest Classifier < KNN\n",
    "    + K Neighbors Classifier time taken was slowest, longest computing time\n",
    "\n",
    "> My consideration included the following \n",
    "    - Random Forest has the best accuracy score and f score on training set\n",
    "    - Logistic Regression has the best accuracy score and f score on test set\n",
    "    - Logistic Regression has the best performance on training and prediction\n",
    "Consequently, comparing Random Forest Classifier and Logistic Regression, the result displayed Logistic Regression is slightly worse than Random Forest. \n",
    "If looking at predictive performance, slight tuning of Logistic Regression's model would easily yield much better predictive performance compare to Random Forest.  \n",
    "\n",
    ">Therefore, I would choose the **Logistic Regression** model as the most appropriate for the task of identifying an individual that make more than $50k income  \n"
   ]
  },
  {
   "cell_type": "code",
   "execution_count": 13,
   "metadata": {},
   "outputs": [
    {
     "data": {
      "text/plain": [
       "'-- LogisticRegression Classification report -->'"
      ]
     },
     "metadata": {},
     "output_type": "display_data"
    },
    {
     "name": "stdout",
     "output_type": "stream",
     "text": [
      "             precision    recall  f1-score   support\n",
      "\n",
      "      False       0.88      0.92      0.90      6833\n",
      "       True       0.72      0.61      0.66      2212\n",
      "\n",
      "avg / total       0.84      0.85      0.84      9045\n",
      "\n"
     ]
    },
    {
     "data": {
      "text/plain": [
       "'-- RandomForestClassifier Classification report -->'"
      ]
     },
     "metadata": {},
     "output_type": "display_data"
    },
    {
     "name": "stdout",
     "output_type": "stream",
     "text": [
      "             precision    recall  f1-score   support\n",
      "\n",
      "      False       0.88      0.92      0.90      6833\n",
      "       True       0.71      0.62      0.66      2212\n",
      "\n",
      "avg / total       0.84      0.84      0.84      9045\n",
      "\n"
     ]
    },
    {
     "data": {
      "text/plain": [
       "'-- KNeighborsClassifier Classification report -->'"
      ]
     },
     "metadata": {},
     "output_type": "display_data"
    },
    {
     "name": "stdout",
     "output_type": "stream",
     "text": [
      "             precision    recall  f1-score   support\n",
      "\n",
      "      False       0.88      0.90      0.89      6833\n",
      "       True       0.67      0.61      0.64      2212\n",
      "\n",
      "avg / total       0.83      0.83      0.83      9045\n",
      "\n"
     ]
    }
   ],
   "source": [
    "#Compute precision, recall, F-measure and support for each class\n",
    "from sklearn.metrics import precision_recall_fscore_support\n",
    "#Build a text report showing the main classification metrics\n",
    "from sklearn.metrics import classification_report\n",
    "\n",
    "for clf in [clf_A, clf_B, clf_C]:\n",
    "    display ('-- {} Classification report -->'.format(clf.__class__.__name__))\n",
    "    if debug: display ( precision_recall_fscore_support(y_test == 1, clf.predict(X_test)))\n",
    "    print (classification_report(y_test == 1, clf.predict(X_test)))"
   ]
  },
  {
   "cell_type": "markdown",
   "metadata": {},
   "source": [
    "### Question 4 - Describing the Model in Layman's Terms\n",
    "*In one to two paragraphs, explain to *CharityML*, in layman's terms, how the final model chosen is supposed to work. Be sure that you are describing the major qualities of the model, such as how the model is trained and how the model makes a prediction. Avoid using advanced mathematical or technical jargon, such as describing equations or discussing the algorithm implementation.*"
   ]
  },
  {
   "cell_type": "markdown",
   "metadata": {},
   "source": [
    ">**Answer: **  “Logistic regression measures the relationship between the categorical dependent variable and one or more independent variables by estimating probabilities using a [logistic function](https://en.wikipedia.org/wiki/Logistic_function)” - Wikipedia \n",
    "\n",
    "> The Logistic regression model would not try to predict the numeric value of the given inputs, instead, it would output a probability that the given input value mapping to a certain class.  \n",
    "- It is used to find the probability of event if Success and if Failure when the dependent feature is binary output indicating 0/1, True/False, Yes/No.  \n",
    "- The value of the output variable (Y) ranges should be from 0 to 1.   The output of Logistic Regression always would lie in [0, 1].\n",
    "- Using log transform the distribution to the predicted odd ratio.  \n",
    "- It would learn by using weights and a classification function.\n",
    "- Highlight\n",
    "    + To avoid over fitting and under fitting, we should include all significant variables. A good approach to ensure this practice is to use a step wise method to estimate the logistic regression\n",
    "    + More powerful to maximum likelihood estimates for large sample sizes\n",
    "    + The independent variables should not be correlated with each other i.e. no multi col linearity.  However, we have the options to include interaction effects of categorical variables in the analysis and in the model.\n",
    "    + If the values of dependent variable is ordinal, then it is called as Ordinal logistic regression\n",
    "    + If dependent variable is multi class then it is known as Multinomial Logistic regression.\n",
    "\n",
    "Using example of CharityML understood an individual's income would help a non-profit organization better understand how large of a donation to request, or if they should reach out to begin with.\n",
    "\n",
    "> Suppose we would like to predict an individual who makes more than 50K income or Not.  \n",
    "We would observe the similar kind of features described in [census income data data](https://archive.ics.uci.edu/ml/datasets/Census+Income) to 'predict the likelihood occurrence of an event' (an individual makes >50K income).  For example, \n",
    "    + Age: Probabilities younger people usually having less experience/skill than older people, would have high chance of finding less-paying jobs\n",
    "    + Capital Gain: Probabilities people owning higher capital gain would have high chances earning more income to save even to buy more capital properties.   \n",
    "    + Education level or Education number: Probabilities people with higher education would have high chances of finding high-paying jobs\n",
    "\n",
    "> If we would want to build a logistic regression model based on above similar features to predict the **likelihood occurrence** of an individual makes >50k income or <=50K on its observations. \n",
    "- First, split the data distribution into 80% for training dataset, 20% for testing dataset.  \n",
    "- Next, we would use these features from training dataset as input parameters to *train the logistic regression model*.  See observation x1, x2, x3...\n",
    "    + *The model would calculate the weights over the training data.  Later the model will predict using weights for the new observation*\n",
    "- Later, the *trained logistic regression model* would predict if people make >50K for new observations    \n",
    "\n",
    "> <u>CharityML Data Table</u>  \n",
    "\n",
    ">|Observation| input: Age | input: education level | target: income | \n",
    "|--|--|--|\n",
    "| x1| 19 | 11th | <=50K |\n",
    "| x2| 32 | Some-college | >50K | \n",
    "| x3| 51 | Bachelors | >50K |\n",
    "| x4| 40 | HS-grad | <=50K | \n",
    "\n",
    "> Since it's not possible to use above categorical data to build the logistic regression, the above data needs to convert into score, weights and the corresponding target.  \n",
    "- Score: numerical equivalent to feature categorical value.\n",
    "- Weights: more like weightages corresponding to the particular target \n",
    "- Target class: an individual who makes income >50K and <=50K.  \n",
    "If we were using the logistic regression model for predicting, the binary targets would be like 1/yes or 0/no, known as the Binary classification.\n",
    "\n",
    "> <u>Updated CharityML Data Table</u> \n",
    "\n",
    ">|inputs | score | weights | target | target description |\n",
    "|--|--|---|---| -- | \n",
    "|x1 | 6 | -0.7| 0| <=50 |\n",
    "|x2 | 5 | 0.4| 1 | >50k |\n",
    "|x3 | 7 | 0.6 | 1 | >50k |\n",
    "|x4 | 3 | -0.2|0  | <= 50k |\n",
    "\n",
    "> In this case, if we pass x3 observation (age 51, Bachelors) to the model to get the probability \n",
    "- Corresponding score was 7, for others the scores were 6,5, 3\n",
    "- Weights 0.6 was meant to say the model is 60% confident will be >50K  \n",
    "In fact, we could predict whether the people make >50K or <=50K, we just need to multiply the score and corresponding weight to get the score.  \n",
    "The calculated score was also known as the logits.  The model output would be like \n",
    "    - if the logit was greater than (>) 0, the target class indicated an individual who makes >50K\n",
    "    - if the logit was less than (<) 0, the target class was an individual who makes <=50K.  \n"
   ]
  },
  {
   "cell_type": "markdown",
   "metadata": {},
   "source": [
    "### Implementation: Model Tuning\n",
    "Fine tune the chosen model. Use grid search (`GridSearchCV`) with at least one important parameter tuned with at least 3 different values. You will need to use the entire training set for this. In the code cell below, you will need to implement the following:\n",
    "- Import [`sklearn.grid_search.GridSearchCV`](http://scikit-learn.org/0.17/modules/generated/sklearn.grid_search.GridSearchCV.html) and [`sklearn.metrics.make_scorer`](http://scikit-learn.org/stable/modules/generated/sklearn.metrics.make_scorer.html).\n",
    "- Initialize the classifier you've chosen and store it in `clf`.\n",
    " - Set a `random_state` if one is available to the same state you set before.\n",
    "- Create a dictionary of parameters you wish to tune for the chosen model.\n",
    " - Example: `parameters = {'parameter' : [list of values]}`.\n",
    " - **Note:** Avoid tuning the `max_features` parameter of your learner if that parameter is available!\n",
    "- Use `make_scorer` to create an `fbeta_score` scoring object (with $\\beta = 0.5$).\n",
    "- Perform grid search on the classifier `clf` using the `'scorer'`, and store it in `grid_obj`.\n",
    "- Fit the grid search object to the training data (`X_train`, `y_train`), and store it in `grid_fit`.\n",
    "\n",
    "**Note:** Depending on the algorithm chosen and the parameter list, the following implementation may take some time to run!"
   ]
  },
  {
   "cell_type": "code",
   "execution_count": 24,
   "metadata": {
    "scrolled": true
   },
   "outputs": [
    {
     "name": "stdout",
     "output_type": "stream",
     "text": [
      "Unoptimized model\n",
      "------\n",
      "Accuracy score on testing data: 0.8475\n",
      "F-score on testing data: 0.6971\n",
      "\n",
      "Optimized Model\n",
      "------\n",
      "Final accuracy score on the testing data: 0.8478\n",
      "Final F-score on the testing data: 0.6975\n"
     ]
    }
   ],
   "source": [
    "#11-------------\n",
    "# Import 'GridSearchCV', 'make_scorer', and any other necessary libraries\n",
    "from sklearn.grid_search import GridSearchCV    # older python version\n",
    "#from sklearn.model_selection import GridSearchCV  # newer python version\n",
    "from sklearn.metrics import make_scorer, fbeta_score\n",
    "from sklearn.linear_model import LogisticRegression\n",
    "\n",
    "# Initialize the classifier\n",
    "clf = LogisticRegression( random_state=99)\n",
    "\n",
    "# Create the parameters list you wish to tune\n",
    "parameters = {'solver':['liblinear','lbfgs','newton-cg' ],\n",
    "              'C':[0.8, 8.0, 80.0]\n",
    "             }\n",
    "\n",
    "# Make an fbeta_score scoring object\n",
    "scorer = make_scorer( fbeta_score, beta=0.5)\n",
    "\n",
    "# Perform grid search on the classifier using 'scorer' as the scoring method\n",
    "grid_obj = GridSearchCV( clf, param_grid=parameters,scoring=scorer)\n",
    "if debug: display(grid_obj)\n",
    "# Fit the grid search object to the training data and find the optimal parameters\n",
    "if debug: print(X_train.shape, y_train.shape)\n",
    "grid_fit = grid_obj.fit(X_train, y_train.values.ravel())\n",
    "\n",
    "# Get the estimator\n",
    "best_clf = grid_fit.best_estimator_\n",
    "if debug: display(best_clf)\n",
    "\n",
    "# Make predictions using the unoptimized and model\n",
    "predictions = (clf.fit(X_train, y_train.values.ravel())).predict(X_test)\n",
    "best_predictions = best_clf.predict(X_test)\n",
    "\n",
    "# Report the before-and-afterscores\n",
    "print (\"Unoptimized model\\n------\")\n",
    "print (\"Accuracy score on testing data: {:.4f}\".format(accuracy_score(y_test, predictions)))\n",
    "print (\"F-score on testing data: {:.4f}\".format(fbeta_score(y_test, predictions, beta = 0.5)))\n",
    "print (\"\\nOptimized Model\\n------\")\n",
    "print (\"Final accuracy score on the testing data: {:.4f}\".format(accuracy_score(y_test, best_predictions)))\n",
    "print (\"Final F-score on the testing data: {:.4f}\".format(fbeta_score(y_test, best_predictions, beta = 0.5)))\n",
    "    "
   ]
  },
  {
   "cell_type": "code",
   "execution_count": 25,
   "metadata": {
    "scrolled": true
   },
   "outputs": [
    {
     "name": "stdout",
     "output_type": "stream",
     "text": [
      "('\\nUnoptimized model parameters->', LogisticRegression(C=1.0, class_weight=None, dual=False, fit_intercept=True,\n",
      "          intercept_scaling=1, max_iter=100, multi_class='ovr', n_jobs=1,\n",
      "          penalty='l2', random_state=99, solver='liblinear', tol=0.0001,\n",
      "          verbose=0, warm_start=False))\n",
      "('\\nOptimized model Best parameters->', LogisticRegression(C=0.8, class_weight=None, dual=False, fit_intercept=True,\n",
      "          intercept_scaling=1, max_iter=100, multi_class='ovr', n_jobs=1,\n",
      "          penalty='l2', random_state=99, solver='lbfgs', tol=0.0001,\n",
      "          verbose=0, warm_start=False))\n",
      "\n",
      "--summary difference -->\n",
      "Accuracy on testing data difference (optimized - unoptimized) --> 0.0002 --> 0.03% of unoptimized \n",
      "F-score  on testing data difference (optimized - unoptimized) --> 0.0005 --> 0.07% of unoptimized \n"
     ]
    }
   ],
   "source": [
    "print (\"\\nUnoptimized model parameters->\", clf)\n",
    "print (\"\\nOptimized model Best parameters->\", best_clf)\n",
    "\n",
    "\n",
    "if fyi:\n",
    "    print(\"\\n--summary difference -->\")\n",
    "    print(\"Accuracy on testing data difference (optimized - unoptimized) --> {:.4f} --> {:.2f}% of unoptimized \".format(\n",
    "      float( accuracy_score(y_test, best_predictions) - accuracy_score(y_test, predictions)),\n",
    "    100*float(accuracy_score(y_test, best_predictions) - accuracy_score(y_test, predictions))\n",
    "       /accuracy_score(y_test, predictions) \n",
    "    ))\n",
    "    print (\"F-score  on testing data difference (optimized - unoptimized) --> {:.4f} --> {:.2f}% of unoptimized \".format(\n",
    "        float(fbeta_score(y_test, best_predictions, beta = 0.5) - fbeta_score(y_test, predictions, beta = 0.5)),\n",
    "    100*float(fbeta_score(y_test, best_predictions, beta = 0.5) - fbeta_score(y_test, predictions, beta = 0.5)) \n",
    "         /fbeta_score(y_test, predictions, beta = 0.5)\n",
    "    ))"
   ]
  },
  {
   "cell_type": "markdown",
   "metadata": {},
   "source": [
    "### Question 5 - Final Model Evaluation\n",
    "_What is your optimized model's accuracy and F-score on the testing data? Are these scores better or worse than the unoptimized model? How do the results from your optimized model compare to the naive predictor benchmarks you found earlier in **Question 1**?_  \n",
    "**Note:** Fill in the table below with your results, and then provide discussion in the **Answer** box."
   ]
  },
  {
   "cell_type": "markdown",
   "metadata": {},
   "source": [
    " "
   ]
  },
  {
   "cell_type": "markdown",
   "metadata": {},
   "source": [
    ">**Answer: **  \n",
    "Results: \n",
    "- Naive predictor Accuracy score 0.2478 F-score for simplicity 0.2917 was used as Benchmark \n",
    "- My chosen model was logistic regression and tuned with 'solver', 'C', and 'random_state' parameters.\n",
    "- Difference was optimized value - unoptimized value\n",
    "- Difference % was difference value divided by unoptimized value\n",
    "\n",
    "|     Metric     | Benchmark Predictor | Unoptimized Model | Optimized Model |Difference | Difference % |\n",
    "|:---:  |:---:  |:---:  | :---: | :---: |:---: |\n",
    "| Accuracy Score |  0.2478 | 0.8475  | 0.8478 | 0.0002 |0.03% |\n",
    "| F-score        |  0.2917 | 0.6971  | 0.6975 |0.0005 | 0.07%|\n",
    "\n",
    ">Comparison\n",
    "+ Optimized model has the best accuracy score 0.8478 > Unoptimized 0.8475 > Benchmark 0.2478\n",
    "    + Slight improvement from unoptimized to unoptimzed model\n",
    "    + Significant improvement from benchmark predictor to optimized model\n",
    "+ Optimized model has the best F-score 0.6975 > Unoptimized 0.6971 > Benchmark 0.2917\n",
    "    + Slight improvement from unoptimized to unoptimzed model\n",
    "    + Significant improvement from benchmark predictor to optimized model\n",
    "\n",
    ">The optimized model has significantly better accuracy and F-score scores compared to the benchmark predicator (of naive all positive model).\n"
   ]
  },
  {
   "cell_type": "markdown",
   "metadata": {},
   "source": [
    "----\n",
    "## 5. Feature Importance\n",
    "\n",
    "An important task when performing supervised learning on a dataset like the census data we study here is determining which features provide the most predictive power. By focusing on the relationship between only a few crucial features and the target label we simplify our understanding of the phenomenon, which is most always a useful thing to do. In the case of this project, that means we wish to identify a small number of features that most strongly predict whether an individual makes at most or more than \\$50,000.\n",
    "\n",
    "Choose a scikit-learn classifier (e.g., adaboost, random forests) that has a `feature_importance_` attribute, which is a function that ranks the importance of features according to the chosen classifier.  In the next python cell fit this classifier to training set and use this attribute to determine the top 5 most important features for the census dataset."
   ]
  },
  {
   "cell_type": "markdown",
   "metadata": {},
   "source": [
    "### Question 6 - Feature Relevance Observation\n",
    "When **Exploring the Data**, it was shown there are thirteen available features for each individual on record in the census data.  \n",
    "_Of these thirteen records, which five features do you believe to be most important for prediction, and in what order would you rank them and why?_"
   ]
  },
  {
   "cell_type": "code",
   "execution_count": 17,
   "metadata": {
    "scrolled": true
   },
   "outputs": [
    {
     "data": {
      "text/plain": [
       "'--13 data columns --> '"
      ]
     },
     "metadata": {},
     "output_type": "display_data"
    },
    {
     "data": {
      "text/plain": [
       "['age',\n",
       " 'workclass',\n",
       " 'education_level',\n",
       " 'education-num',\n",
       " 'marital-status',\n",
       " 'occupation',\n",
       " 'relationship',\n",
       " 'race',\n",
       " 'sex',\n",
       " 'capital-gain',\n",
       " 'capital-loss',\n",
       " 'hours-per-week',\n",
       " 'native-country']"
      ]
     },
     "metadata": {},
     "output_type": "display_data"
    }
   ],
   "source": [
    "display('--{} data columns --> '.format(features_raw.shape[1]), features_raw.columns.tolist())"
   ]
  },
  {
   "cell_type": "markdown",
   "metadata": {},
   "source": [
    ">**Answer:**  I would choose and rank the following with 1 for the most important, 5 for the least important for prediction  \n",
    "1. capital-gain: Probabilities people owning higher capital gain would have high chances earning more income to save even to buy more capital properties.   \n",
    "2. occupation: Probabilities high tech occupation usually high chance getting high-paying jobs\n",
    "3. age: Probabilities younger people usually having less experience/skill than older people, would have high chance of finding less-paying jobs\n",
    "4. education_level: Probabilities people with higher education would have high chances of finding high-paying jobs\n",
    "5. sex: Probabilities males have better initial salary, and promotion faster than female.  Male get more income\n"
   ]
  },
  {
   "cell_type": "markdown",
   "metadata": {},
   "source": [
    "### Implementation - Extracting Feature Importance\n",
    "Choose a `scikit-learn` supervised learning algorithm that has a `feature_importance_` attribute availble for it. This attribute is a function that ranks the importance of each feature when making predictions based on the chosen algorithm.\n",
    "\n",
    "In the code cell below, you will need to implement the following:\n",
    " - Import a supervised learning model from sklearn if it is different from the three used earlier.\n",
    " - Train the supervised model on the entire training set.\n",
    " - Extract the feature importances using `'.feature_importances_'`."
   ]
  },
  {
   "cell_type": "code",
   "execution_count": 18,
   "metadata": {},
   "outputs": [
    {
     "name": "stdout",
     "output_type": "stream",
     "text": [
      "\n",
      "--Full Feature Training Time--> 0.7920\n"
     ]
    },
    {
     "data": {
      "image/png": "[encoded data removed]",
      "text/plain": [
       "<matplotlib.figure.Figure at 0xfe7efd0>"
      ]
     },
     "metadata": {},
     "output_type": "display_data"
    },
    {
     "name": "stdout",
     "output_type": "stream",
     "text": [
      "\n",
      "-- First 20 of Top 10 important features -->  \n"
     ]
    },
    {
     "data": {
      "text/html": [
       "<div>\n",
       "<style>\n",
       "    .dataframe thead tr:only-child th {\n",
       "        text-align: right;\n",
       "    }\n",
       "\n",
       "    .dataframe thead th {\n",
       "        text-align: left;\n",
       "    }\n",
       "\n",
       "    .dataframe tbody tr th {\n",
       "        vertical-align: top;\n",
       "    }\n",
       "</style>\n",
       "<table border=\"1\" class=\"dataframe\">\n",
       "  <thead>\n",
       "    <tr style=\"text-align: right;\">\n",
       "      <th></th>\n",
       "      <th>importances</th>\n",
       "      <th>features</th>\n",
       "    </tr>\n",
       "  </thead>\n",
       "  <tbody>\n",
       "    <tr>\n",
       "      <th>0</th>\n",
       "      <td>0.243544</td>\n",
       "      <td>age</td>\n",
       "    </tr>\n",
       "    <tr>\n",
       "      <th>4</th>\n",
       "      <td>0.113718</td>\n",
       "      <td>hours-per-week</td>\n",
       "    </tr>\n",
       "    <tr>\n",
       "      <th>2</th>\n",
       "      <td>0.0984859</td>\n",
       "      <td>capital-gain</td>\n",
       "    </tr>\n",
       "    <tr>\n",
       "      <th>30</th>\n",
       "      <td>0.0790893</td>\n",
       "      <td>marital-status_ Married-civ-spouse</td>\n",
       "    </tr>\n",
       "    <tr>\n",
       "      <th>1</th>\n",
       "      <td>0.0586236</td>\n",
       "      <td>education-num</td>\n",
       "    </tr>\n",
       "    <tr>\n",
       "      <th>32</th>\n",
       "      <td>0.0408817</td>\n",
       "      <td>marital-status_ Never-married</td>\n",
       "    </tr>\n",
       "    <tr>\n",
       "      <th>3</th>\n",
       "      <td>0.0364723</td>\n",
       "      <td>capital-loss</td>\n",
       "    </tr>\n",
       "    <tr>\n",
       "      <th>50</th>\n",
       "      <td>0.0229548</td>\n",
       "      <td>relationship_ Not-in-family</td>\n",
       "    </tr>\n",
       "    <tr>\n",
       "      <th>44</th>\n",
       "      <td>0.0180429</td>\n",
       "      <td>occupation_ Prof-specialty</td>\n",
       "    </tr>\n",
       "    <tr>\n",
       "      <th>61</th>\n",
       "      <td>0.0156957</td>\n",
       "      <td>sex_ Male</td>\n",
       "    </tr>\n",
       "    <tr>\n",
       "      <th>52</th>\n",
       "      <td>0.0136769</td>\n",
       "      <td>relationship_ Own-child</td>\n",
       "    </tr>\n",
       "    <tr>\n",
       "      <th>38</th>\n",
       "      <td>0.0134639</td>\n",
       "      <td>occupation_ Exec-managerial</td>\n",
       "    </tr>\n",
       "    <tr>\n",
       "      <th>7</th>\n",
       "      <td>0.0113866</td>\n",
       "      <td>workclass_ Private</td>\n",
       "    </tr>\n",
       "    <tr>\n",
       "      <th>42</th>\n",
       "      <td>0.0111161</td>\n",
       "      <td>occupation_ Other-service</td>\n",
       "    </tr>\n",
       "    <tr>\n",
       "      <th>53</th>\n",
       "      <td>0.00982993</td>\n",
       "      <td>relationship_ Unmarried</td>\n",
       "    </tr>\n",
       "    <tr>\n",
       "      <th>9</th>\n",
       "      <td>0.00897328</td>\n",
       "      <td>workclass_ Self-emp-not-inc</td>\n",
       "    </tr>\n",
       "    <tr>\n",
       "      <th>49</th>\n",
       "      <td>0.00881882</td>\n",
       "      <td>relationship_ Husband</td>\n",
       "    </tr>\n",
       "    <tr>\n",
       "      <th>28</th>\n",
       "      <td>0.00837549</td>\n",
       "      <td>marital-status_ Divorced</td>\n",
       "    </tr>\n",
       "    <tr>\n",
       "      <th>59</th>\n",
       "      <td>0.00761927</td>\n",
       "      <td>race_ White</td>\n",
       "    </tr>\n",
       "    <tr>\n",
       "      <th>24</th>\n",
       "      <td>0.00733036</td>\n",
       "      <td>education_level_ Masters</td>\n",
       "    </tr>\n",
       "  </tbody>\n",
       "</table>\n",
       "</div>"
      ],
      "text/plain": [
       "   importances                            features\n",
       "0     0.243544                                 age\n",
       "4     0.113718                      hours-per-week\n",
       "2    0.0984859                        capital-gain\n",
       "30   0.0790893  marital-status_ Married-civ-spouse\n",
       "1    0.0586236                       education-num\n",
       "32   0.0408817       marital-status_ Never-married\n",
       "3    0.0364723                        capital-loss\n",
       "50   0.0229548         relationship_ Not-in-family\n",
       "44   0.0180429          occupation_ Prof-specialty\n",
       "61   0.0156957                           sex_ Male\n",
       "52   0.0136769             relationship_ Own-child\n",
       "38   0.0134639         occupation_ Exec-managerial\n",
       "7    0.0113866                  workclass_ Private\n",
       "42   0.0111161           occupation_ Other-service\n",
       "53  0.00982993             relationship_ Unmarried\n",
       "9   0.00897328         workclass_ Self-emp-not-inc\n",
       "49  0.00881882               relationship_ Husband\n",
       "28  0.00837549            marital-status_ Divorced\n",
       "59  0.00761927                         race_ White\n",
       "24  0.00733036            education_level_ Masters"
      ]
     },
     "metadata": {},
     "output_type": "display_data"
    }
   ],
   "source": [
    "#12-------------\n",
    "# Import a supervised learning model that has 'feature_importances_'\n",
    "from sklearn.ensemble import RandomForestClassifier\n",
    "\n",
    "feature_results={} # feature importance selection result\n",
    "# Train the supervised model on the training set \n",
    "start = time()\n",
    "clf =  RandomForestClassifier(criterion=\"entropy\", random_state=99)\n",
    "model=clf.fit(X_train, y_train.values.ravel() )\n",
    "end = time()\n",
    "feature_results['train_time_allfeature'] = np.float(end - start)  # Calculate the training time\n",
    "print (\"\\n--Full Feature Training Time--> {:.4f}\".format( feature_results['train_time_allfeature']))\n",
    "\n",
    "# Extract the feature importances\n",
    "importances = np.array(model.feature_importances_ )\n",
    "if debug: display('--importances-->', importances)\n",
    "\n",
    "# Plot\n",
    "vs.feature_plot(importances, X_train, y_train.values.ravel() )\n",
    "\n",
    "if fyi: \n",
    "    top_features = pd.DataFrame(data = np.array([importances.astype(float), features.columns]).T,\n",
    "                       columns = ['importances', 'features'])\n",
    "    top_features = top_features.sort_values('importances', ascending=False)\n",
    "    print( \"\\n-- First 20 of Top 10 important features -->  \")\n",
    "    display(top_features[:20])\n"
   ]
  },
  {
   "cell_type": "markdown",
   "metadata": {},
   "source": [
    "### Question 7 - Extracting Feature Importance\n",
    "\n",
    "Observe the visualization created above which displays the five most relevant features for predicting if an individual makes at most or above \\$50,000.  \n",
    "_How do these five features compare to the five features you discussed in **Question 6**? If you were close to the same answer, how does this visualization confirm your thoughts? If you were not close, why do you think these features are more relevant?_"
   ]
  },
  {
   "cell_type": "markdown",
   "metadata": {},
   "source": [
    ">**Answer:**\n",
    "From visualization, the Random Forest Classifier depicted top 5 most relevant features.  \n",
    "\n",
    ">| Rank (1-Highest Weight) | Feature Importance | My Initial Thought |  \n",
    "| -- | --- | ---|\n",
    "| 1| age | captain-gain |  \n",
    "| 2| hours-per-week | occupation |  \n",
    "| 3| capital-gain | age |  \n",
    "| 4| marital-status Married-civ-spouse | education level |  \n",
    "| 5| education number | sex |  \n",
    "\n",
    "> Comparing with my initial thought top 5 features, which I considered relevant previously, was partially (3/5) matched: expect age, captain-gain, and education related being important top 5 features, but I didn't expect hours-per-week and marital-status in top 5 features.\n",
    "- If you were close to the same answer, how does this visualization confirm your thoughts?  \n",
    "     - The visualization confirmed my thoughts about age, captain-gain, and education related (not number, but level)   But, married status and hours per week were not in my initial thought.  \n",
    "     - My rank order was different from visualization was capital-gain > age > education level \n",
    "     - The rank based on the feature weights in visualization was age > capital-gain > education number\n",
    "- If you were not close, why do you think these features are more relevant?  \n",
    "I didn't expect hours-per-week and marital-status showing relevant top 5 features in visualization.  My previous consideration were occupation and sex (gender).  I thought occupation with high tech/skill having high chance getting high-pay jobs.  Sex- male had high chance to get more salary and promotion opportunity than female.\n",
    "    - From reported relevant features in visualization \n",
    "        - (1) married status such as married with civilization spouse having more chance getting higher income\n",
    "        - (2) hours-per-week such as 40 hours could imply people who make fixed income, assume not high-paying income"
   ]
  },
  {
   "cell_type": "markdown",
   "metadata": {},
   "source": [
    "### Feature Selection\n",
    "How does a model perform if we only use a subset of all the available features in the data? With less features required to train, the expectation is that training and prediction time is much lower — at the cost of performance metrics. From the visualization above, we see that the top five most important features contribute more than half of the importance of **all** features present in the data. This hints that we can attempt to *reduce the feature space* and simplify the information required for the model to learn. The code cell below will use the same optimized model you found earlier, and train it on the same training set *with only the top five important features*. "
   ]
  },
  {
   "cell_type": "code",
   "execution_count": 26,
   "metadata": {},
   "outputs": [
    {
     "name": "stdout",
     "output_type": "stream",
     "text": [
      "Final Model trained on full data\n",
      "------\n",
      "Accuracy on testing data: 0.8478\n",
      "F-score on testing data: 0.6975\n",
      "Full Data Training Time: 0.7920 \n",
      "\n",
      "Final Model trained on reduced data\n",
      "------\n",
      "Accuracy on testing data: 0.8303\n",
      "F-score on testing data: 0.6580\n",
      "Reduced Data Training Time: 0.1300 \n",
      "\n",
      "--summary difference -->\n",
      "Accuracy on testing data difference (full-reduced) --> 0.0175 --> 2.06% of full data \n",
      "F-score  on testing data difference (full-reduced) --> 0.0396 --> 5.67% of full data \n",
      "Time Gained/Saved --> -0.6620 --> -83.59% of full data time  \n"
     ]
    }
   ],
   "source": [
    "#13-------------\n",
    "# Import functionality for cloning a model\n",
    "from sklearn.base import clone\n",
    "\n",
    "# Reduce the feature space\n",
    "X_train_reduced = X_train[X_train.columns.values[(np.argsort(importances)[::-1])[:5]]]\n",
    "X_test_reduced = X_test[X_test.columns.values[(np.argsort(importances)[::-1])[:5]]]\n",
    "\n",
    "# Train on the \"best\" model found from grid search earlier\n",
    "start = time() # get start time\n",
    "clf = (clone(best_clf)).fit(X_train_reduced, y_train.values.ravel())\n",
    "end = time()   # get end time\n",
    "feature_results['train_time_reducedfeature'] = np.float(end - start)  # Calculate the training time\n",
    "feature_results['time_saved'] = np.float(\n",
    "    feature_results['train_time_reducedfeature']-feature_results['train_time_allfeature'])\n",
    "    \n",
    "# Make new predictions\n",
    "reduced_predictions = clf.predict(X_test_reduced)\n",
    "\n",
    "# Report scores from the final model using both versions of data\n",
    "print (\"Final Model trained on full data\\n------\")\n",
    "print (\"Accuracy on testing data: {:.4f}\".format(accuracy_score(y_test, best_predictions)))\n",
    "print (\"F-score on testing data: {:.4f}\".format(fbeta_score(y_test, best_predictions, beta = 0.5)))\n",
    "print (\"Full Data Training Time: {:.4f} \".format( np.float(feature_results['train_time_allfeature']) ))\n",
    "\n",
    "print (\"\\nFinal Model trained on reduced data\\n------\")\n",
    "print (\"Accuracy on testing data: {:.4f}\".format(accuracy_score(y_test, reduced_predictions)))\n",
    "print (\"F-score on testing data: {:.4f}\".format(fbeta_score(y_test, reduced_predictions, beta = 0.5)))\n",
    "print (\"Reduced Data Training Time: {:.4f} \".format( np.float(feature_results['train_time_reducedfeature'])))\n",
    "\n",
    "\n",
    "if fyi:\n",
    "    print(\"\\n--summary difference -->\")\n",
    "    print(\"Accuracy on testing data difference (full-reduced) --> {:.4f} --> {:.2f}% of full data \".format(\n",
    "       accuracy_score(y_test, best_predictions) - accuracy_score(y_test, reduced_predictions),\n",
    "    100* float((accuracy_score(y_test, best_predictions) - accuracy_score(y_test, reduced_predictions)))\n",
    "       /float(accuracy_score(y_test, best_predictions)) \n",
    "    ))\n",
    "    print (\"F-score  on testing data difference (full-reduced) --> {:.4f} --> {:.2f}% of full data \".format(\n",
    "    fbeta_score(y_test, best_predictions, beta = 0.5) - fbeta_score(y_test, reduced_predictions, beta = 0.5),\n",
    "    100*float(fbeta_score(y_test, best_predictions, beta = 0.5) - \n",
    "               fbeta_score(y_test, reduced_predictions, beta = 0.5)) \n",
    "         / float((fbeta_score(y_test, best_predictions, beta = 0.5)))\n",
    "    ))\n",
    "    print (\"Time Gained/Saved --> {:.4f} --> {:.2f}% of full data time  \".format( \n",
    "        feature_results['time_saved'], \n",
    "        100 * float(feature_results['time_saved']) / float(feature_results['train_time_allfeature'])\n",
    "    ))\n",
    "           \n",
    "    "
   ]
  },
  {
   "cell_type": "markdown",
   "metadata": {},
   "source": [
    "### Question 8 - Effects of Feature Selection\n",
    "*How does the final model's F-score and accuracy score on the reduced data using only five features compare to those same scores when all features are used?*  \n",
    "*If training time was a factor, would you consider using the reduced data as your training set?*"
   ]
  },
  {
   "cell_type": "markdown",
   "metadata": {},
   "source": [
    ">**Answer:**  \n",
    "Both final model's accuracy and F-score (full data in question 5) were slightly lower/decreased on the reduced (only top 5 most important) features.  \n",
    "- Accuracy score, was decreased from full to reduced data\n",
    "- F-Score, went down from full to reduced data\n",
    "- Training time of reduced data gained/saved was decreased\n",
    "- Difference was full data - reduced data\n",
    "- Difference % was difference value divided by full data\n",
    "\n",
    "|     Metric     | Benchmark Predictor | Unoptimized Model | Optimized Model<br>Full Features | Reduced Features | Difference | Difference % |\n",
    "| :------------: | :-----------------: | :---------------: | :-------------: | :-------------: | -- | -- |\n",
    "| Accuracy Score |  0.2478 | 0.8475  | <b>0.8478</b> | <b>0.8303</b>| <b>0.0175</b> |<b>2.06% of full data</b> |\n",
    "| F-score        |  0.2917 | 0.6971  | <b>0.6975</b> | <b>0.658</b> | <b>0.0396</b> |<b>5.67% of full data</b> |\n",
    "| Time Taken | NA | NA | <b>0.792 | <b>0.156</b>  |<b>-0.636</b>  | <b>-80.3% of full data time</b>|\n",
    "\n",
    "\n",
    "> If training time was a factor, I would consider to reduce the data since time could save upto 80% of full data taken.  \n",
    "Another possible factor would be if full data was too large, machine CPU is less capacity/power, I would still consider to reduce data.\n"
   ]
  },
  {
   "cell_type": "markdown",
   "metadata": {},
   "source": [
    "> **Note**: Once you have completed all of the code implementations and successfully answered each question above, you may finalize your work by exporting the iPython Notebook as an HTML document. You can do this by using the menu above and navigating to  \n",
    "**File -> Download as -> HTML (.html)**. Include the finished document along with this notebook as your submission."
   ]
  },
  {
   "cell_type": "markdown",
   "metadata": {},
   "source": [
    "**Reference:** \n",
    "- [A Tour of Machine Learning Algorithms](http://machinelearningmastery.com/a-tour-of-machine-learning-algorithms/)\n",
    "- [Census Income Data Set](https://archive.ics.uci.edu/ml/datasets/Census+Income) \n",
    "- [Concept searching](https://www.kcura.com/relativity/Portals/0/Documents/8.0%20Documentation%20Help%20Site/Content/Features/Analytics/Concept%20searching.htm)\n",
    "- [Ensemble learning](https://en.wikipedia.org/wiki/Ensemble_learning)\n",
    "- [Ensemble Methods Application - Netflix Prize](http://www.netflixprize.com)\n",
    "- [F1 score wiki](https://en.wikipedia.org/wiki/F1_score)\n",
    "- [How the Logistic Regression Model Works in Machine Learning](https://dataaspirant.com/2017/03/02/how-logistic-regression-model-works/)\n",
    "- [How PayPal beats the bad guys with machine learning](http://www.infoworld.com/article/2907877/machine-learning/how-paypal-reduces-fraud-with-machine-learning.html)\n",
    "- [logistic function - Wikipedia](https://en.wikipedia.org/wiki/Logistic_function)\n",
    "- [Logistic Regression](http://dni-institute.in/blogs/category/logistic-regression)\n",
    "- [Logistic Regression wiki](https://en.wikipedia.org/wiki/Logistic_regression)\n",
    "- [Logistic Regression for dummies](https://codesachin.wordpress.com/2015/08/16/logistic-regression-for-dummies/)\n",
    "- [Logistic Regression for Machine Learning](http://machinelearningmastery.com/logistic-regression-for-machine-learning/)\n",
    "- [Machine Learning Engineer nanodegree Supervised Learning by udaciry.com](https://classroom.udacity.com/nanodegrees/nd009)\n",
    "- [Modern Machine Learning Algorithms: Strengths and Weaknesses](https://elitedatascience.com/machine-learning-algorithms)\n",
    "- [Naive Bayes Classification and Sentiment by Daniel Jurafsky & James Martin](https://web.stanford.edu/~jurafsky/slp3/6.pdf)\n",
    "- [Naive Bayesian](http://www.saedsayad.com/naive_bayesian.htm) \n",
    "- [Precision and recall](https://en.wikipedia.org/wiki/Precision_and_recall)\n",
    "- [Random Forests in Python](http://blog.yhat.com/posts/random-forests-in-python.html)\n",
    "- [Random Forests Leo Breiman and Adele Cutler](http://www.stat.berkeley.edu/~breiman/RandomForests/cc_home.htm)\n",
    "- [Scikit-learn: Machine Learning in Python, Pedregosa et al., JMLR 12, pp. 2825-2830, 2011.](http://jmlr.csail.mit.edu/papers/v12/pedregosa11a.html)\n",
    "- [Scikit-learn: Logistic Regression](http://scikit-learn.org/stable/modules/generated/sklearn.linear_model.LogisticRegression.html)\n",
    "- [Supervised learning by scikit-learn.org](http://scikit-learn.org/stable/supervised_learning.html)\n",
    "- [Tuning the parameters of your Random Forest model](https://www.analyticsvidhya.com/blog/2015/06/tuning-random-forest-model/)\n",
    "- [What are industry applications of the K-nearest neighbor algorithm?](https://www.quora.com/What-are-industry-applications-of-the-K-nearest-neighbor-algorithm)\n"
   ]
  }
 ],
 "metadata": {
  "kernelspec": {
   "display_name": "Python 2",
   "language": "python",
   "name": "python2"
  },
  "language_info": {
   "codemirror_mode": {
    "name": "ipython",
    "version": 2
   },
   "file_extension": ".py",
   "mimetype": "text/x-python",
   "name": "python",
   "nbconvert_exporter": "python",
   "pygments_lexer": "ipython2",
   "version": "2.7.13"
  }
 },
 "nbformat": 4,
 "nbformat_minor": 1
}
